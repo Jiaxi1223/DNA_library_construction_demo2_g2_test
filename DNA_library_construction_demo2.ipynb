{
 "cells": [
  {
   "cell_type": "markdown",
   "metadata": {},
   "source": []
  },
  {
   "cell_type": "code",
   "execution_count": 1,
   "metadata": {},
   "outputs": [],
   "source": [
    "import math\n",
    "import time\n",
    "import threading\n",
    "import numpy as np\n",
    "\n",
    "from autofunc import AutoFunc\n",
    "from python_api_class import PythonAPI\n",
    "from concurrent.futures import ThreadPoolExecutor\n",
    "\n",
    "from enum import Enum \n",
    "\n",
    "class MoveDirection(Enum): \n",
    "    Diagonal =      0\n",
    "    Vertical =      1\n",
    "    Horizontal =    2"
   ]
  },
  {
   "cell_type": "code",
   "execution_count": 2,
   "metadata": {},
   "outputs": [],
   "source": [
    "api_handle = PythonAPI()\n",
    "af = AutoFunc(api_handle)"
   ]
  },
  {
   "cell_type": "code",
   "execution_count": 3,
   "metadata": {},
   "outputs": [],
   "source": [
    "# api_handle.send_command(f\"sim\")\n",
    "api_handle.send_command(\"no_detect add {} {} {} {}\".format(35, 35, 1030, 670)) \n",
    "\n",
    "# Constants\n",
    "ONE_PIXEL_LEN = 0.112  # Length in reality corresponding to one pixel in BPU_Tool\n",
    "DROPLET_HEIGHT = 0.2   # Height of the droplet\n",
    "COEFFICIENT = math.pow(ONE_PIXEL_LEN, 2) * DROPLET_HEIGHT  # Coefficient for volume calculation\n",
    "ONE_UL_LEN = 19.96489265625  # Edge length of 1 ul droplet on UI (assuming a square droplet)\n",
    "\n",
    "START_x1, START_y1 = 180, 260\n",
    "START_x2, START_y2 = 390, 260\n",
    "START_x3, START_y3 = 600, 260\n",
    "START_x4, START_y4 = 810, 260\n",
    "\n",
    "list_start_x = list(range(180, 1020, 105))\n",
    "list_start_y = [75, 400]"
   ]
  },
  {
   "cell_type": "code",
   "execution_count": 4,
   "metadata": {},
   "outputs": [
    {
     "data": {
      "text/plain": [
       "-1"
      ]
     },
     "execution_count": 4,
     "metadata": {},
     "output_type": "execute_result"
    }
   ],
   "source": [
    "api_handle.send_command(f\"vbox add {1072 - 894} {409.5} {1072 - 992} {634.5}\")"
   ]
  },
  {
   "cell_type": "code",
   "execution_count": 5,
   "metadata": {},
   "outputs": [],
   "source": [
    "mag_centers = af.get_mag_info(8, 4)"
   ]
  },
  {
   "cell_type": "code",
   "execution_count": 6,
   "metadata": {},
   "outputs": [],
   "source": [
    "\n",
    "y_offset = 35\n",
    "\n",
    "def get_mags(begin_row, begin_col, end_row, end_col, arrange=0):\n",
    "    # 先定义整个32个点的矩阵\n",
    "    global mag_centers\n",
    "    matrix = mag_centers\n",
    "    \n",
    "    # 定义行列数\n",
    "    rows, cols = 8, 4\n",
    "    \n",
    "    # 提取指定范围内的子矩阵\n",
    "    sub_matrix = []\n",
    "    \n",
    "    if arrange == 0:  # 列优先\n",
    "        for c in range(begin_col, end_col + 1):\n",
    "            for r in range(begin_row, end_row + 1):\n",
    "                index = c * rows + r\n",
    "                sub_matrix.append(matrix[index])\n",
    "    else:  # 行优先\n",
    "        for r in range(begin_row, end_row + 1):\n",
    "            for c in range(begin_col, end_col + 1):\n",
    "                index = c * rows + r\n",
    "                sub_matrix.append(matrix[index])\n",
    "    \n",
    "    return sub_matrix\n",
    "\n",
    "def move_to_x(drp_id, x, wait = False):\n",
    "    _, y1, _, y2 = api_handle.send_command(f\"getbox {drp_id}\")\n",
    "    y = (y1 + y2) / 2\n",
    "    tag = api_handle.send_command(f\"move_p {drp_id} {x} {y} {MoveDirection.Horizontal.value}\")\n",
    "    if wait:\n",
    "        api_handle.wait_tag(tag)\n",
    "    return tag\n",
    "    \n",
    "def move_to_y(drp_id, y, wait = False):\n",
    "    x1, _, x2, _ = api_handle.send_command(f\"getbox {drp_id}\")\n",
    "    x = (x1 + x2) / 2\n",
    "    tag = api_handle.send_command(f\"move_p {drp_id} {x} {y} {MoveDirection.Vertical.value}\")\n",
    "    if wait:\n",
    "        api_handle.wait_tag(tag)\n",
    "    return tag\n",
    "\n",
    "def get_4drps_list_vertical(begin, end):\n",
    "    # 生成从 begin 到 end 的倒序列表\n",
    "    num_list = list(range(end, begin - 1, -1))\n",
    "    \n",
    "    # 将数字分为两部分，分别为每列的数据\n",
    "    col1 = num_list[::2]  # 选择奇数索引\n",
    "    col2 = num_list[1::2]  # 选择偶数索引\n",
    "    \n",
    "    # 创建结果列表\n",
    "    result = []\n",
    "    \n",
    "    # 每次处理4个元素\n",
    "    for i in range(0, len(col1), 4):\n",
    "        # 添加列1的4个元素\n",
    "        result.append(col1[i:i+4])\n",
    "        # 添加列2的4个元素\n",
    "        result.append(col2[i:i+4])\n",
    "    \n",
    "    return result\n",
    "\n",
    "def group_list(input_list):\n",
    "    odd_index_elements = input_list[0::2]  # 选取奇数项索引的元素\n",
    "    even_index_elements = input_list[1::2]  # 选取偶数项索引的元素\n",
    "    return odd_index_elements, even_index_elements \n",
    "\n",
    "def split_into_groups(input_list, num_groups):\n",
    "    # 计算每组的大小\n",
    "    group_size = len(input_list) // num_groups\n",
    "    # 创建组列表\n",
    "    groups = [input_list[i*group_size:(i+1)*group_size] for i in range(num_groups)]\n",
    "    # 将剩余的元素加入到最后一组（如果有多余的元素）\n",
    "    remaining_elements = len(input_list) % num_groups\n",
    "    if remaining_elements:\n",
    "        groups[-1].extend(input_list[-remaining_elements:])\n",
    "    \n",
    "    return groups\n",
    "\n",
    "def get_droplet_central_point(uid):\n",
    "    uid = int(uid)  # 提前转换uid为整数\n",
    "    x1, y1, x2, y2 = api_handle.send_command(f\"getbox {uid}\")\n",
    "    # 计算中心点坐标并返回\n",
    "    return (x1 + x2) / 2, (y1 + y2) / 2\n",
    "\n",
    "# Convert a list of numbers to a space-separated string\n",
    "def list_to_string(numbers):\n",
    "    return ' '.join(map(str, numbers))\n",
    "\n",
    "def get_area_central_point(area): \n",
    "    if (4 != len(area)) :\n",
    "        return -1, -1\n",
    "    return (area[0] + area[2]) / 2, (area[1] + area[3]) / 2\n",
    "\n",
    "def process_list(input_list):\n",
    "    # 使用列表解构和reversed，避免中间变量和原地修改\n",
    "    g1, g2 = group_list(input_list)\n",
    "    return list(reversed(g1)) + list(reversed(g2))\n",
    "\n",
    "def move_drps_to_tmp_pos(drps_list: list, dest_mags: list, dir: str):\n",
    "    tmp_tags = []\n",
    "    dir_stringlist = ['up', 'right', 'left', 'right']\n",
    "    sign = -1 if (dir == dir_stringlist[0] or dir == dir_stringlist[3]) else 1\n",
    "    for drp_id, pos in zip(drps_list, dest_mags):\n",
    "        # 将液滴摆放在目标磁控点的上下方向\n",
    "        if (dir in dir_stringlist[:2]):\n",
    "            tag = api_handle.send_command(f\"move_p {drp_id} {pos[0]} {pos[1] + sign * y_offset} {MoveDirection.Vertical.value}\")\n",
    "            tmp_tags.append(tag)\n",
    "        # 左右的逻辑还没想好\n",
    "        else:\n",
    "            pass\n",
    "    af.wait_tag_all(tmp_tags)\n",
    "\n",
    "def move_drps_to_points_v(drps: list, positions: list):\n",
    "    tags = []\n",
    "    for id, pos in zip(drps, positions):\n",
    "        tag = api_handle.send_command(f\"move_p {id} {list_to_string(pos)} {MoveDirection.Vertical.value}\")\n",
    "        tags.append(tag)\n",
    "    af.wait_tag_all(tags)\n",
    "    \n",
    "def move_drps_to_points_h(drps: list, positions: list):\n",
    "    tags = []\n",
    "    for id, pos in zip(drps, positions):\n",
    "        tag = api_handle.send_command(f\"move_p {id} {list_to_string(pos)} {MoveDirection.Horizontal.value}\")\n",
    "        tags.append(tag)\n",
    "    af.wait_tag_all(tags)"
   ]
  },
  {
   "cell_type": "code",
   "execution_count": 7,
   "metadata": {},
   "outputs": [],
   "source": [
    "def row_to_column_sort(data, rows = 6, cols = 4):\n",
    "    \"\"\"\n",
    "    将一个按行排序的列表转换为按列排序\n",
    "    \n",
    "    参数:\n",
    "    data -- 输入列表，按行排序的数据\n",
    "    \n",
    "    返回:\n",
    "    列表，按列排序后的数据\n",
    "    \"\"\"\n",
    "    # 确保输入是列表\n",
    "    if not isinstance(data, list):\n",
    "        raise TypeError(\"输入必须是列表\")\n",
    "    \n",
    "    # 将输入列表转换为NumPy数组，假设是6×4的形状\n",
    "    arr = np.array(data).reshape(rows, cols)\n",
    "    \n",
    "    # 将数组按列展开，即先取所有行的第0列，然后是第1列，依此类推\n",
    "    column_ordered = arr.T.flatten()\n",
    "    \n",
    "    # 转换回Python列表\n",
    "    result = column_ordered.tolist()\n",
    "    \n",
    "    return result\n"
   ]
  },
  {
   "cell_type": "code",
   "execution_count": 8,
   "metadata": {},
   "outputs": [],
   "source": [
    "def get_hole_pos(dir: str, idx: int) -> list:\n",
    "    \"\"\"\n",
    "    获取芯片孔位坐标\n",
    "    \n",
    "    参数:\n",
    "        dir (str): 方向 - 'l'左, 'r'右, 'u'上, 'd'下\n",
    "        idx (int): 孔位索引，从1开始\n",
    "        \n",
    "    返回:\n",
    "        list: [x坐标, y坐标]\n",
    "    \"\"\"\n",
    "    # 定义各个方向的孔位坐标\n",
    "    holes_config = {\n",
    "        'r': {\n",
    "            'x': 988,\n",
    "            'y': [115, 225, 330, 435, 545, 620]\n",
    "        },\n",
    "        'l': {\n",
    "            'x': 75,\n",
    "            'y': [85, 175, 280, 385, 490, 595]\n",
    "        },\n",
    "        'd': {\n",
    "            'x': [100, 190, 295, 400, 510, 615, 725, 830, 940],\n",
    "            'y': 640\n",
    "        },\n",
    "        'u': {\n",
    "            'x': [135, 240, 345, 455, 560, 670, 775, 885, 965],\n",
    "            'y': 70\n",
    "        }\n",
    "    }\n",
    "    \n",
    "    # 检查参数有效性\n",
    "    if dir not in holes_config:\n",
    "        raise ValueError(\"方向参数必须是 'l', 'r', 'u' 或 'd'\")\n",
    "    \n",
    "    holes = holes_config[dir]\n",
    "    \n",
    "    # 获取该方向的最大索引值\n",
    "    max_idx = len(holes['y']) if isinstance(holes['x'], int) else len(holes['x'])\n",
    "    \n",
    "    if idx < 1 or idx > max_idx:\n",
    "        raise ValueError(f\"索引值必须在1到{max_idx}之间\")\n",
    "    \n",
    "    # 将索引转换为0基数\n",
    "    idx = idx - 1\n",
    "    \n",
    "    # 返回坐标\n",
    "    if isinstance(holes['x'], int):\n",
    "        # 左右方向：x坐标固定，y坐标是列表\n",
    "        return [holes['x'], holes['y'][idx]]\n",
    "    else:\n",
    "        # 上下方向：x坐标是列表，y坐标固定\n",
    "        return [holes['x'][idx], holes['y']]\n",
    "\n",
    "def get_hole_pos_by_pipe_id(pipe_id: int):\n",
    "    if (0 != pipe_id % 2):\n",
    "        return [-1, -1]\n",
    "    # 左侧孔位坐标\n",
    "    if (pipe_id <= 10):\n",
    "        return get_hole_pos('r', (10 - pipe_id) // 2 + 1)\n",
    "    elif (pipe_id >= 12 and pipe_id <= 28):\n",
    "        return get_hole_pos('u', (28 - pipe_id) // 2 + 1)\n",
    "    elif (pipe_id >= 30 and pipe_id <= 40):\n",
    "        return get_hole_pos('l', (pipe_id - 30) // 2 + 1)\n",
    "    elif (pipe_id >= 42 and pipe_id <= 58):\n",
    "        return get_hole_pos('d', (pipe_id - 42) // 2 + 1)\n",
    "\n",
    "def wait_tag(tag: int):\n",
    "    api_handle.wait_tag(tag)"
   ]
  },
  {
   "cell_type": "code",
   "execution_count": 9,
   "metadata": {},
   "outputs": [],
   "source": [
    "def single_mix(drp_id, mix_time):\n",
    "    x1, y1, x2, y2 = api_handle.send_command(f\"getbox {drp_id}\")\n",
    "    api_handle.send_command(f\"set_virtual {drp_id} {0}\")\n",
    "    move_length = 0.7\n",
    "    list_direction = [(move_length*(-1),0), (-move_length*2**0.5/2,move_length*2**0.5/2), (0,move_length), (move_length*2**0.5/2,move_length*2**0.5/2), (move_length,0), (move_length*2**0.5/2,-move_length*2**0.5/2), (0,move_length*(-1)), (-move_length*2**0.5/2,-move_length*2**0.5/2), (move_length*(-1),0), (-move_length*2**0.5/2,-move_length*2**0.5/2), (0,move_length*(-1)), (move_length*2**0.5/2,-move_length*2**0.5/2), (move_length,0), (move_length*2**0.5/2,move_length*2**0.5/2), (0,move_length), (-move_length*2**0.5/2,move_length*2**0.5/2)]\n",
    "    running_time = 0\n",
    "    time_interval = 0.4\n",
    "    while running_time <= mix_time:\n",
    "        for direction in list_direction:\n",
    "            sx_left = x1+(x2-x1)*direction[0]\n",
    "            sx_right = sx_left + x2 - x1\n",
    "            sy_right = y1+(y2-y1)*direction[1]\n",
    "            sy_up = sy_right + y2 - y1\n",
    "            vbox_id = api_handle.send_command(f\"vbox add {sx_left} {sy_right} {sx_right} {sy_up}\")\n",
    "            time.sleep(time_interval)\n",
    "            api_handle.send_command(f\"vbox remove {vbox_id}\")\n",
    "            running_time += time_interval\n",
    "    vbox_id = api_handle.send_command(f\"vbox add {x1} {y1} {x2} {y2}\")\n",
    "    drp_id_new = api_handle.send_command(f\"vbox 2drp {vbox_id}\")\n",
    "    return drp_id_new\n",
    "\n",
    "def batch_mix(list_drp_id, mix_time):\n",
    "    list_feature = []\n",
    "    with ThreadPoolExecutor(max_workers=32) as executor:\n",
    "        for drp_id in list_drp_id:\n",
    "            feature = executor.submit(single_mix, drp_id, mix_time)\n",
    "            list_feature.append(feature)\n",
    "    list_drp_id_new = []\n",
    "    for feature in list_feature:  \n",
    "        list_drp_id_new.append(feature.result())\n",
    "    return list_drp_id_new\n",
    "mix_func = batch_mix"
   ]
  },
  {
   "cell_type": "code",
   "execution_count": 10,
   "metadata": {},
   "outputs": [],
   "source": [
    "def move_drps_to_points(drps: list, positions: list, path_temp_point = False, temp_point_dir: str = 'up'):\n",
    "    if path_temp_point:\n",
    "        move_drps_to_tmp_pos(drps, positions, temp_point_dir)\n",
    "    tags = []\n",
    "    for id, pos in zip(drps, positions):\n",
    "        tag = api_handle.send_command(f\"move_p {id} {list_to_string(pos)} {MoveDirection.Vertical.value}\")\n",
    "        tags.append(tag)\n",
    "    af.wait_tag_all(tags)\n",
    "\n",
    "def move_vbox_p(vbox_id, target_x, target_y, dir: MoveDirection, speed = 2):\n",
    "    curr_x, curr_y = get_area_central_point(api_handle.send_command(f\"vbox getbox {vbox_id}\"))\n",
    "    if (MoveDirection.Horizontal.value == dir):\n",
    "        api_handle.wait_tag( \\\n",
    "        api_handle.send_command(f\"vbox move {vbox_id} {target_x} {curr_y} {speed}\")\n",
    "        )\n",
    "        api_handle.wait_tag( \\\n",
    "        api_handle.send_command(f\"vbox move {vbox_id} {target_x} {target_y} {speed}\")\n",
    "        )\n",
    "    else:\n",
    "        api_handle.wait_tag( \\\n",
    "        api_handle.send_command(f\"vbox move {vbox_id} {curr_x} {target_y}\")\n",
    "        )\n",
    "        api_handle.wait_tag( \\\n",
    "        api_handle.send_command(f\"vbox move {vbox_id} {target_x} {target_y}\")\n",
    "        )\n",
    "\n",
    "def move_shift_vbox(vbox_id, x_shift, y_shift, speed = 4):\n",
    "    curr_x, curr_y = get_area_central_point(api_handle.send_command(f\"vbox getbox {vbox_id}\"))\n",
    "    return api_handle.send_command(f\"vbox move {vbox_id} {curr_x + x_shift} {curr_y + y_shift} {speed}\")"
   ]
  },
  {
   "cell_type": "code",
   "execution_count": 11,
   "metadata": {},
   "outputs": [],
   "source": [
    "split_volume = 1.67\n",
    "orig_volume = split_volume * 9\n",
    "orig_length = ONE_UL_LEN * orig_volume**0.5\n",
    "split_length = ONE_UL_LEN * split_volume**0.5\n",
    "\n",
    "matrix = af.get_mag_info(8, 4)\n",
    "speed_drp = 0.25\n",
    "speed_vbox = 2\n",
    "matrix.extend([[853, 601], [853, 530], [853, 459], [853, 388], [853, 317], [853, 246], [853, 175], [853, 104]])"
   ]
  },
  {
   "cell_type": "markdown",
   "metadata": {},
   "source": [
    "函数定义"
   ]
  },
  {
   "cell_type": "code",
   "execution_count": 12,
   "metadata": {},
   "outputs": [],
   "source": [
    "def vbox_move_shift(vbox_id, x_distance, y_distance, speed):\n",
    "    x1, y1, x2, y2 = api_handle.send_command(\"vbox getbox {}\".format(vbox_id))\n",
    "    x_destination = (x1 + x2)/2 + x_distance\n",
    "    y_destination = (y1 + y2)/2 + y_distance\n",
    "    tag = api_handle.send_command(f\"vbox move {vbox_id} {x_destination} {y_destination} {speed}\")\n",
    "    return tag\n",
    "\n",
    "def extract_droplet_v2(vbox_id, direction, orig_volume, split_volume, split_number, list_split_position, extract_time = 3):\n",
    "    x1, y1, x2, y2 = api_handle.send_command(\"vbox getbox {}\".format(vbox_id))\n",
    "    api_handle.send_command(f\"vbox remove {vbox_id}\")\n",
    "\n",
    "    list_vbox_id_saved = []\n",
    "    step = 0\n",
    "    while step < split_number:\n",
    "        area = orig_volume - step * split_volume\n",
    "        length_new = ONE_UL_LEN*(area-split_volume)**0.5\n",
    "        split_length = ONE_UL_LEN * split_volume**0.5\n",
    "        speed = 2\n",
    "        sx_left = (x1+x2)*0.5 - length_new*0.5\n",
    "        sx_right = (x1+x2)*0.5 + length_new*0.5\n",
    "        sy_down = (y1+y2)*0.5 - length_new*0.5\n",
    "        sy_up = (y1+y2)*0.5 + length_new*0.5\n",
    "        # bottom_vbox\n",
    "        if direction == 'down':\n",
    "            bottom_vbox_id = api_handle.send_command(\"vbox add {} {} {} {}\".format(sx_left,sy_down,sx_right,sy_down+length_new*0.1))\n",
    "        elif direction == 'up':\n",
    "            bottom_vbox_id = api_handle.send_command(\"vbox add {} {} {} {}\".format(sx_left,sy_up-length_new*0.1,sx_right,sy_up))\n",
    "        elif direction == 'left':\n",
    "            bottom_vbox_id = api_handle.send_command(\"vbox add {} {} {} {}\".format(sx_right-length_new*0.1,sy_down,sx_right,sy_up))\n",
    "        elif direction == 'right':\n",
    "            bottom_vbox_id = api_handle.send_command(\"vbox add {} {} {} {}\".format(sx_left,sy_down,sx_left+length_new*0.1,sy_up))            \n",
    "        # neck_vbox\n",
    "        if direction == 'down':\n",
    "            neck_vbox_id = api_handle.send_command(\"vbox add {} {} {} {}\".format((x1+x2)*0.5-split_length/4,sy_up-split_length*0.5,(x1+x2)*0.5+split_length/4,sy_up+split_length*1.5))\n",
    "        elif direction == 'up':\n",
    "            neck_vbox_id = api_handle.send_command(\"vbox add {} {} {} {}\".format((x1+x2)*0.5-split_length/4,sy_down-split_length*1.5,(x1+x2)*0.5+split_length/4,sy_down+split_length*0.5))\n",
    "        elif direction == 'left':\n",
    "            neck_vbox_id = api_handle.send_command(\"vbox add {} {} {} {}\".format(sx_left-split_length*1.5,(y1+y2)/2-split_length/4,sx_left+split_length*0.5,(y1+y2)/2+split_length/4))\n",
    "        elif direction == 'right':\n",
    "            neck_vbox_id = api_handle.send_command(\"vbox add {} {} {} {}\".format(sx_right-split_length*0.5,(y1+y2)/2-split_length/4,sx_right+split_length*1.5,(y1+y2)/2+split_length/4))\n",
    "        time.sleep(1)\n",
    "        \n",
    "        # vbox_saved\n",
    "        if direction == 'down':\n",
    "            vbox_id_saved = api_handle.send_command(\"vbox add {} {} {} {}\".format((x1+x2)*0.5-split_length/2,sy_up+split_length*1,(x1+x2)*0.5+split_length/2,sy_up+split_length*2))\n",
    "        elif direction == 'up':\n",
    "            vbox_id_saved = api_handle.send_command(\"vbox add {} {} {} {}\".format((x1+x2)*0.5-split_length/2,sy_down-split_length*2,(x1+x2)*0.5+split_length/2,sy_down-split_length))\n",
    "        elif direction == 'left':\n",
    "            vbox_id_saved = api_handle.send_command(\"vbox add {} {} {} {}\".format(sx_left-split_length*2,(y1+y2)*0.5-split_length/2,sx_left-split_length,(y1+y2)*0.5+split_length/2))\n",
    "        elif direction == 'right':\n",
    "            vbox_id_saved = api_handle.send_command(\"vbox add {} {} {} {}\".format(sx_right+split_length,(y1+y2)*0.5-split_length/2,sx_right+split_length*2,(y1+y2)*0.5+split_length/2))\n",
    "        list_vbox_id_saved.append(vbox_id_saved)\n",
    "        time.sleep(extract_time)\n",
    "        api_handle.send_command(f\"vbox remove {neck_vbox_id}\")\n",
    "        api_handle.send_command(f\"vbox remove {bottom_vbox_id}\")\n",
    "        \n",
    "        # second_neck_vbox\n",
    "        if direction == 'down':\n",
    "            neck_vbox_id = api_handle.send_command(\"vbox add {} {} {} {}\".format((x1+x2)*0.5-split_length/16,sy_up-split_length*0.5,(x1+x2)*0.5+split_length/16,sy_up+split_length*1))\n",
    "        elif direction == 'up':\n",
    "            neck_vbox_id = api_handle.send_command(\"vbox add {} {} {} {}\".format((x1+x2)*0.5-split_length/16,sy_down-split_length*1,(x1+x2)*0.5+split_length/16,sy_down+split_length*0.5))\n",
    "        elif direction == 'left':\n",
    "            neck_vbox_id = api_handle.send_command(\"vbox add {} {} {} {}\".format(sx_left-split_length*1,(y1+y2)/2-split_length/16,sx_right-split_length*0.5,(y1+y2)/2+split_length/16))\n",
    "        elif direction == 'right':\n",
    "            neck_vbox_id = api_handle.send_command(\"vbox add {} {} {} {}\".format(sx_right-split_length*0.5,(y1+y2)/2-split_length/16,sx_right+split_length*1,(y1+y2)/2+split_length/16))\n",
    "            \n",
    "        bottom_vbox_id = api_handle.send_command(\"vbox add {} {} {} {}\".format(sx_left,sy_down,sx_right,sy_up))\n",
    "        time.sleep(2)\n",
    "        api_handle.send_command(f\"vbox remove {neck_vbox_id}\")\n",
    "        \n",
    "        # withdraw_vbox\n",
    "        if direction == 'down':\n",
    "            withdraw_vbox_id = api_handle.send_command(\"vbox add {} {} {} {}\".format((x1+x2)*0.5-split_length*0.5,sy_up-split_length*0.5,(x1+x2)*0.5+split_length*0.5,sy_up+split_length*0.5))\n",
    "        elif direction == 'up':\n",
    "            withdraw_vbox_id = api_handle.send_command(\"vbox add {} {} {} {}\".format((x1+x2)*0.5-split_length*0.5,sy_down-split_length*0.5,(x1+x2)*0.5+split_length*0.5,sy_down+split_length*0.5))\n",
    "        elif direction == 'left':\n",
    "            withdraw_vbox_id = api_handle.send_command(\"vbox add {} {} {} {}\".format(sx_left-split_length*0.5,(y1+y2)/2-split_length*0.5,sx_left+split_length*0.5,(y1+y2)/2+split_length*0.5))\n",
    "        elif direction == 'right':\n",
    "            withdraw_vbox_id = api_handle.send_command(\"vbox add {} {} {} {}\".format(sx_right-split_length/2,(y1+y2)/2-split_length*0.5,sx_right+split_length/2,(y1+y2)/2+split_length*0.5))\n",
    "        time.sleep(0.5)\n",
    "        api_handle.send_command(f\"vbox remove {withdraw_vbox_id}\")\n",
    "        \n",
    "        # move\n",
    "        tag = None\n",
    "        if direction == 'up':\n",
    "            tag = api_handle.send_command(f\"vbox move {vbox_id_saved} {list_split_position[step][0]} {list_split_position[step][1]} {speed}\")\n",
    "        elif direction == 'down':\n",
    "            tag = api_handle.send_command(f\"vbox move {vbox_id_saved} {list_split_position[split_number-step-1][0]} {list_split_position[split_number-step-1][1]} {speed}\")\n",
    "        elif direction == 'left':\n",
    "            tag = api_handle.send_command(f\"vbox move {vbox_id_saved} {list_split_position[step][0]} {list_split_position[step][1]} {speed}\")\n",
    "        elif direction == 'right':\n",
    "            tag = api_handle.send_command(f\"vbox move {vbox_id_saved} {list_split_position[split_number-step-1][0]} {list_split_position[split_number-step-1][1]} {speed}\")\n",
    "            \n",
    "        time.sleep(5)\n",
    "        api_handle.send_command(f\"vbox remove {bottom_vbox_id}\")\n",
    "        if step == split_number-1:\n",
    "            rest_vbox_id = api_handle.send_command(\"vbox add {} {} {} {}\".format(sx_left,sy_down,sx_right,sy_up))\n",
    "            api_handle.wait_tag(tag)\n",
    "        step += 1\n",
    "        \n",
    "    if direction == 'up' or direction == 'left':\n",
    "        return list_vbox_id_saved, rest_vbox_id\n",
    "    else:\n",
    "        return list_vbox_id_saved[::-1], rest_vbox_id\n"
   ]
  },
  {
   "cell_type": "code",
   "execution_count": 13,
   "metadata": {},
   "outputs": [],
   "source": [
    "def even_split(vbox_id, move_speed):\n",
    "    x1, y1, x2, y2 = api_handle.send_command(f\"vbox getbox {vbox_id}\")\n",
    "    api_handle.send_command(f\"vbox remove {vbox_id}\")\n",
    "    length_vbox_end = (x2-x1)/2**0.5\n",
    "    bar_height = 2\n",
    "    vbox1 = api_handle.send_command(\"vbox add {} {} {} {}\".format((x1+x2)/2-length_vbox_end/2,(y1+y2)/2-length_vbox_end/2,(x1+x2)/2+length_vbox_end/2,(y1+y2)/2+length_vbox_end/2))\n",
    "    vbox2 = api_handle.send_command(\"vbox add {} {} {} {}\".format((x1+x2)/2-length_vbox_end/2,(y1+y2)/2-length_vbox_end/2,(x1+x2)/2+length_vbox_end/2,(y1+y2)/2+length_vbox_end/2))\n",
    "    vbox3 = api_handle.send_command(\"vbox add {} {} {} {}\".format(x1,(y1+y2)/2-bar_height/2,x2,(y1+y2)/2+bar_height/2))\n",
    "    time.sleep(1)\n",
    "    tags = []\n",
    "    tag = move_shift_vbox(vbox1, -(x2-x1)*0.75, 0, move_speed)\n",
    "    tags.append(tag)\n",
    "    tag = move_shift_vbox(vbox2, (x2-x1)*0.75, 0, move_speed)\n",
    "    tags.append\n",
    "    af.wait_tag_all(tags)\n",
    "    time.sleep(1)\n",
    "    api_handle.send_command(f\"vbox remove {vbox3}\") \n",
    "    return vbox1, vbox2\n",
    "\n",
    "def batch_even_split(list_vbox_id, move_speed):\n",
    "    list_feature = []\n",
    "    with ThreadPoolExecutor(max_workers=128) as executor:\n",
    "        for vbox_id in list_vbox_id:\n",
    "            feature = executor.submit(even_split, vbox_id, move_speed)\n",
    "            list_feature.append(feature)\n",
    "    list_vbox_id_new = []\n",
    "    for feature in list_feature:  \n",
    "        list_vbox_id_new.append(feature.result())\n",
    "    return list_vbox_id_new\n",
    "\n",
    "def even_split_2(drp_id, move_speed):\n",
    "    x1, y1, x2, y2 = api_handle.send_command(f\"getbox {drp_id}\")\n",
    "    api_handle.send_command(f\"set_virtual {drp_id} 1\")\n",
    "    length_vbox_end = (x2-x1)/2**0.5\n",
    "    bar_height = 2\n",
    "    vbox1 = api_handle.send_command(\"vbox add {} {} {} {}\".format((x1+x2)/2-length_vbox_end/2,(y1+y2)/2-length_vbox_end/2,(x1+x2)/2+length_vbox_end/2,(y1+y2)/2+length_vbox_end/2))\n",
    "    vbox2 = api_handle.send_command(\"vbox add {} {} {} {}\".format((x1+x2)/2-length_vbox_end/2,(y1+y2)/2-length_vbox_end/2,(x1+x2)/2+length_vbox_end/2,(y1+y2)/2+length_vbox_end/2))\n",
    "    vbox3 = api_handle.send_command(\"vbox add {} {} {} {}\".format(x1,(y1+y2)/2-bar_height/2,x2,(y1+y2)/2+bar_height/2))\n",
    "    time.sleep(1)\n",
    "    tags = []\n",
    "    tag = move_shift_vbox(vbox1, -(x2-x1)*0.75, 0, move_speed)\n",
    "    tags.append(tag)\n",
    "    tag = move_shift_vbox(vbox2, (x2-x1)*0.75, 0, move_speed)\n",
    "    tags.append\n",
    "    af.wait_tag_all(tags)\n",
    "    time.sleep(1)\n",
    "    api_handle.send_command(f\"vbox remove {vbox3}\")\n",
    "    id1 = api_handle.send_command(f\"vbox 2drp {vbox1}\")\n",
    "    id2 = api_handle.send_command(f\"vbox 2drp {vbox2}\")\n",
    "    return id1, id2\n",
    "\n",
    "def batch_even_split_2(list_drp_id, move_speed):\n",
    "    list_feature = []\n",
    "    with ThreadPoolExecutor(max_workers=128) as executor:\n",
    "        for drp_id in list_drp_id:\n",
    "            feature = executor.submit(even_split_2, drp_id, move_speed)\n",
    "            list_feature.append(feature)\n",
    "    list_drp_id_new = []\n",
    "    for feature in list_feature:\n",
    "        list_drp_id_new.append(feature.result())\n",
    "    return list_drp_id_new"
   ]
  },
  {
   "cell_type": "code",
   "execution_count": 14,
   "metadata": {},
   "outputs": [],
   "source": [
    "def garbage_drps(drps: list, move_shift_x = 300, mag_up: bool = True):\n",
    "    def garbage_func():\n",
    "        if mag_up:\n",
    "            api_handle.send_command(\"mag up\")\n",
    "            time.sleep(6)\n",
    "        # af.move_shift_all(drps, -35, 0, True)\n",
    "        # time.sleep(1)\n",
    "        # af.move_shift_all(drps, 0, 35, True)\n",
    "        # time.sleep(1)\n",
    "        # af.move_shift_all(drps, 70, -70, True)\n",
    "        # time.sleep(2)\n",
    "        drps2 = mix_func(drps, 10)\n",
    "        af.move_shift_all(drps2, 35, -35, True)\n",
    "        time.sleep(2)\n",
    "        \n",
    "        if move_shift_x > 0:\n",
    "            af.move_shift_all(drps2, move_shift_x, 0, True)\n",
    "        # api_handle.send_command(\"mag down\")\n",
    "        \n",
    "        y1 = get_droplet_central_point(drps2[0])[1]\n",
    "        garbage_pos_x, garbage_pos_y = get_hole_pos_by_pipe_id(12)[0], 62\n",
    "        def move_to_garbage_pos(id):\n",
    "            tag = api_handle.send_command(f\"move_p {id} {garbage_pos_x} {y1} {MoveDirection.Vertical.value}\")\n",
    "            api_handle.wait_tag(tag)\n",
    "            tag = api_handle.send_command(f\"move_p {id} {garbage_pos_x} {garbage_pos_y} {MoveDirection.Vertical.value}\")\n",
    "            api_handle.wait_tag(tag)\n",
    "            api_handle.send_command(f\"set_virtual {id} 0\")\n",
    "            \n",
    "        x_st = get_droplet_central_point(drps2[-1])[0]\n",
    "        for i in range(len(drps2) // 6):\n",
    "            st = -(i+1)*6\n",
    "            ed = -i*6 if i != 0 else None\n",
    "            group = drps2[st:ed]\n",
    "            for j, id in enumerate(group):\n",
    "                t = threading.Thread(target = move_to_garbage_pos, args = (id, ))\n",
    "                t.start()\n",
    "            while(get_droplet_central_point(group[-1])[0] < x_st + 30):\n",
    "                time.sleep(1)\n",
    "            if (i != len(drps2) // 6 - 1):\n",
    "                af.move_shift_all(drps2[:len(drps2) - (i + 1) * 6], 70, 0, True)\n",
    "                     \n",
    "    t = threading.Thread(target=garbage_func)\n",
    "    t.start()\n",
    "    return t"
   ]
  },
  {
   "cell_type": "code",
   "execution_count": 15,
   "metadata": {},
   "outputs": [],
   "source": [
    "split_volume = 1\n",
    "drp_num = 6"
   ]
  },
  {
   "cell_type": "code",
   "execution_count": 16,
   "metadata": {},
   "outputs": [],
   "source": [
    "speed = 1.2"
   ]
  },
  {
   "cell_type": "markdown",
   "metadata": {},
   "source": [
    "DNA片段化"
   ]
  },
  {
   "cell_type": "markdown",
   "metadata": {},
   "source": [
    "5×Reaction Buffer & Transposome Mix V50"
   ]
  },
  {
   "cell_type": "code",
   "execution_count": null,
   "metadata": {},
   "outputs": [],
   "source": [
    "# 5×Reaction Buffer + Transposome Mix V50 \n",
    "# 28\n",
    "drp_vol_reaction_buffer = 0.8\n",
    "orig_volume = drp_vol_reaction_buffer * drp_num * 2 + 0.5\n",
    "pos1_x = get_hole_pos_by_pipe_id(28)[0]\n",
    "pos1 = [pos1_x, 110]\n",
    "mags = get_mags(1, 2, 6, 3, arrange = 0)\n",
    "list_split_position = mags\n",
    "vbox_id1 = api_handle.send_command(f\"vbox add {list_to_string(pos1)} {ONE_UL_LEN * math.sqrt(orig_volume)}\")"
   ]
  },
  {
   "cell_type": "code",
   "execution_count": null,
   "metadata": {},
   "outputs": [],
   "source": [
    "vbox_list_1, unused_1 = extract_droplet_v2(vbox_id1, 'down', orig_volume, drp_vol_reaction_buffer, drp_num * 2, list_split_position, extract_time=4)"
   ]
  },
  {
   "cell_type": "code",
   "execution_count": null,
   "metadata": {},
   "outputs": [],
   "source": [
    "drps_reaction_buffer = []\n",
    "for vbox_id in vbox_list_1:\n",
    "    drp_id = api_handle.send_command(f\"vbox 2drp {vbox_id}\")\n",
    "    drps_reaction_buffer.append(drp_id)\n",
    "    api_handle.send_command(f\"set_speed {drp_id} {speed}\")"
   ]
  },
  {
   "cell_type": "markdown",
   "metadata": {},
   "source": [
    "基因组DNA"
   ]
  },
  {
   "cell_type": "code",
   "execution_count": null,
   "metadata": {},
   "outputs": [],
   "source": [
    "# 基因组DNA\n",
    "# 22\n",
    "drp_vol_genome = 1.8\n",
    "orig_volume = drp_vol_genome * 2\n",
    "mags = get_mags(1, 0, 6, 1, arrange = 1)\n",
    "pos1 = [get_hole_pos_by_pipe_id(30)[0] + 25, get_hole_pos_by_pipe_id(30)[1] + 10]\n",
    "list_split_position1 = [[pos[0], pos[1] - 70] for pos in mags[:2]]\n",
    "vbox_id1 = api_handle.send_command(f\"vbox add {list_to_string(pos1)} {ONE_UL_LEN * math.sqrt(orig_volume)}\")\n",
    "\n",
    "pos2 = [get_hole_pos_by_pipe_id(32)[0] + 25, get_hole_pos_by_pipe_id(32)[1]]\n",
    "list_split_position2 = [[pos[0], pos[1] - 30] for pos in mags[2:4]]\n",
    "vbox_id2 = api_handle.send_command(f\"vbox add {list_to_string(pos2)} {ONE_UL_LEN * math.sqrt(orig_volume)}\")\n",
    "\n",
    "pos3 = [get_hole_pos_by_pipe_id(34)[0] + 25, get_hole_pos_by_pipe_id(34)[1]]\n",
    "list_split_position3 = [[pos[0], pos[1] - 30] for pos in mags[4:6]]\n",
    "vbox_id3 = api_handle.send_command(f\"vbox add {list_to_string(pos3)} {ONE_UL_LEN * math.sqrt(orig_volume)}\")\n",
    "\n",
    "pos4 = [get_hole_pos_by_pipe_id(36)[0] + 25, get_hole_pos_by_pipe_id(36)[1]]\n",
    "list_split_position4 = [[pos[0], pos[1] - 30] for pos in mags[6:8]]\n",
    "vbox_id4 = api_handle.send_command(f\"vbox add {list_to_string(pos4)} {ONE_UL_LEN * math.sqrt(orig_volume)}\")\n",
    "\n",
    "pos5 = [get_hole_pos_by_pipe_id(38)[0] + 25, get_hole_pos_by_pipe_id(38)[1]]\n",
    "list_split_position5 = [[pos[0], pos[1] - 30] for pos in mags[8:10]]\n",
    "vbox_id5 = api_handle.send_command(f\"vbox add {list_to_string(pos5)} {ONE_UL_LEN * math.sqrt(orig_volume)}\")\n",
    "\n",
    "pos6 = [get_hole_pos_by_pipe_id(40)[0] + 25, get_hole_pos_by_pipe_id(40)[1]]\n",
    "list_split_position6 = [[pos[0], pos[1] - 30] for pos in mags[10:12]]\n",
    "vbox_id6 = api_handle.send_command(f\"vbox add {list_to_string(pos6)} {ONE_UL_LEN * math.sqrt(orig_volume)}\")"
   ]
  },
  {
   "cell_type": "code",
   "execution_count": null,
   "metadata": {},
   "outputs": [],
   "source": [
    "with ThreadPoolExecutor() as executor:\n",
    "    f1 = executor.submit(extract_droplet_v2, vbox_id1, 'right', orig_volume, drp_vol_genome, 2, list_split_position1)\n",
    "    f2 = executor.submit(extract_droplet_v2, vbox_id2, 'right', orig_volume, drp_vol_genome, 2, list_split_position2)\n",
    "    f3 = executor.submit(extract_droplet_v2, vbox_id3, 'right', orig_volume, drp_vol_genome, 2, list_split_position3)\n",
    "    f4 = executor.submit(extract_droplet_v2, vbox_id4, 'right', orig_volume, drp_vol_genome, 2, list_split_position4)\n",
    "    f5 = executor.submit(extract_droplet_v2, vbox_id5, 'right', orig_volume, drp_vol_genome, 2, list_split_position5)\n",
    "    f6 = executor.submit(extract_droplet_v2, vbox_id6, 'right', orig_volume, drp_vol_genome, 2, list_split_position6)\n",
    "    vbox_list_1, unused_1 = f1.result()\n",
    "    vbox_list_2, unused_2 = f2.result()\n",
    "    vbox_list_3, unused_3 = f3.result()\n",
    "    vbox_list_4, unused_4 = f4.result()\n",
    "    vbox_list_5, unused_5 = f5.result()\n",
    "    vbox_list_6, unused_6 = f6.result()"
   ]
  },
  {
   "cell_type": "code",
   "execution_count": null,
   "metadata": {},
   "outputs": [],
   "source": [
    "drps_genome = []\n",
    "for vbox_id in vbox_list_1 + vbox_list_2 + vbox_list_3 + vbox_list_4 + vbox_list_5 + vbox_list_6:\n",
    "    drp_id = api_handle.send_command(f\"vbox 2drp {vbox_id}\")\n",
    "    drps_genome.append(drp_id)\n",
    "    api_handle.send_command(f\"set_speed {drp_id} {speed}\")"
   ]
  },
  {
   "cell_type": "code",
   "execution_count": null,
   "metadata": {},
   "outputs": [],
   "source": [
    "af.move_shift_all(drps_genome, 140, 0, wait = True)"
   ]
  },
  {
   "cell_type": "code",
   "execution_count": null,
   "metadata": {},
   "outputs": [],
   "source": [
    "row_to_column_sort(drps_genome, rows = 6, cols = 2)\n",
    "af.merge_all(row_to_column_sort(drps_genome, rows = 6, cols = 2), drps_reaction_buffer, wait = True)"
   ]
  },
  {
   "cell_type": "code",
   "execution_count": null,
   "metadata": {},
   "outputs": [],
   "source": [
    "drps_sample = drps_reaction_buffer\n",
    "drps_sample = mix_func(drps_sample, 10)"
   ]
  },
  {
   "cell_type": "code",
   "execution_count": null,
   "metadata": {},
   "outputs": [],
   "source": [
    "# 片段化产物移动到加热区\n",
    "# 660, 775\n",
    "tags = []\n",
    "for i, drp_id in enumerate(drps_sample):\n",
    "    if i < 6:\n",
    "        tx = 660\n",
    "    else:\n",
    "        tx = 775\n",
    "    tags.append(move_to_x(drp_id, tx))\n",
    "af.wait_tag_all(tags)"
   ]
  },
  {
   "cell_type": "code",
   "execution_count": null,
   "metadata": {},
   "outputs": [],
   "source": [
    "drps_sample = mix_func(drps_sample, 10)"
   ]
  },
  {
   "cell_type": "markdown",
   "metadata": {},
   "source": [
    "终止转座"
   ]
  },
  {
   "cell_type": "markdown",
   "metadata": {},
   "source": [
    "加入 Terminate solution"
   ]
  },
  {
   "cell_type": "code",
   "execution_count": null,
   "metadata": {},
   "outputs": [],
   "source": [
    "# 加入 Terminate solution\n",
    "# 54 56号孔位\n",
    "# Terminate\n",
    "drp_vol_terminate = 0.5\n",
    "orig_volume = drp_vol_terminate * drp_num\n",
    "# 54\n",
    "pos1_x = get_hole_pos_by_pipe_id(54)[0]\n",
    "pos1 = [pos1_x, 600]\n",
    "list_split_position1 = [[pos1_x, y] for _, y in mag_centers[1:7]]\n",
    "# 56\n",
    "pos2_x = get_hole_pos_by_pipe_id(56)[0]\n",
    "pos2 = [pos2_x, 600]\n",
    "list_split_position2 = [[pos2_x, y] for _, y in mag_centers[1:7]]"
   ]
  },
  {
   "cell_type": "code",
   "execution_count": null,
   "metadata": {},
   "outputs": [],
   "source": [
    "vbox_id1 = api_handle.send_command(f\"vbox add {list_to_string(pos1)} {ONE_UL_LEN * math.sqrt(orig_volume)}\")\n",
    "vbox_id2 = api_handle.send_command(f\"vbox add {list_to_string(pos2)} {ONE_UL_LEN * math.sqrt(orig_volume)}\")"
   ]
  },
  {
   "cell_type": "code",
   "execution_count": null,
   "metadata": {},
   "outputs": [],
   "source": [
    "with ThreadPoolExecutor() as executor:\n",
    "    f1 = executor.submit(extract_droplet_v2, vbox_id1, 'up', orig_volume, drp_vol_terminate, drp_num, list_split_position1)\n",
    "    f2 = executor.submit(extract_droplet_v2, vbox_id2, 'up', orig_volume, drp_vol_terminate, drp_num, list_split_position2)\n",
    "    vbox_list_1, unused_1 = f1.result()\n",
    "    vbox_list_2, unused_2 = f2.result()\n",
    "\n",
    "tag1 = api_handle.send_command(f\"vbox move {unused_1} {list_to_string(get_hole_pos_by_pipe_id(0))} 4\")\n",
    "tag2 = api_handle.send_command(f\"vbox move {unused_2} {list_to_string(get_hole_pos_by_pipe_id(0))} 4\")\n",
    "af.wait_tag_all([tag1, tag2])\n",
    "api_handle.send_command(f\"vbox remove {unused_1}\")\n",
    "api_handle.send_command(f\"vbox remove {unused_2}\")\n",
    "\n",
    "terminates = []\n",
    "for vbox_id in vbox_list_1 + vbox_list_2:\n",
    "    drp_id = api_handle.send_command(f\"vbox 2drp {vbox_id}\")\n",
    "    api_handle.send_command(f\"set_speed {drp_id} {speed}\")\n",
    "    terminates.append(drp_id)"
   ]
  },
  {
   "cell_type": "code",
   "execution_count": null,
   "metadata": {},
   "outputs": [],
   "source": [
    "af.merge_all(terminates, drps_sample, wait = True)"
   ]
  },
  {
   "cell_type": "code",
   "execution_count": null,
   "metadata": {},
   "outputs": [],
   "source": [
    "tmp_drps = drps_sample[3:6] + drps_sample[9:12]\n",
    "af.move_shift_all(tmp_drps, 0, 20, True)"
   ]
  },
  {
   "cell_type": "code",
   "execution_count": null,
   "metadata": {},
   "outputs": [],
   "source": [
    "drps_sample = mix_func(drps_sample, 10)"
   ]
  },
  {
   "cell_type": "code",
   "execution_count": null,
   "metadata": {},
   "outputs": [],
   "source": [
    "af.move_shift_all(drps_sample[3:6] + drps_sample[9:12], 0, -20, True)"
   ]
  },
  {
   "cell_type": "code",
   "execution_count": null,
   "metadata": {},
   "outputs": [],
   "source": [
    "res = batch_even_split_2(drps_sample, 2)"
   ]
  },
  {
   "cell_type": "code",
   "execution_count": null,
   "metadata": {},
   "outputs": [],
   "source": [
    "drps_frags = [None] * 24\n",
    "for i, pair in enumerate(res):\n",
    "    if i < 6:\n",
    "        drps_frags[i] = pair[0]\n",
    "        drps_frags[i + 6] = pair[1]\n",
    "    else:\n",
    "        drps_frags[i + 6] = pair[0]\n",
    "        drps_frags[i + 12] = pair[1]"
   ]
  },
  {
   "cell_type": "code",
   "execution_count": null,
   "metadata": {},
   "outputs": [],
   "source": [
    "# drps_frags = mix_func(drps_frags, 20)"
   ]
  },
  {
   "cell_type": "markdown",
   "metadata": {},
   "source": [
    "片段化产物纯化-Ampure磁珠"
   ]
  },
  {
   "cell_type": "code",
   "execution_count": null,
   "metadata": {},
   "outputs": [],
   "source": [
    "# Ampure磁珠\n",
    "drp_vol_ampure = 1.2\n",
    "orig_volume = drp_vol_ampure * drp_num + 2\n",
    "mags = get_mags(1, 0, 6, 0, arrange = 0)\n",
    "# 26\n",
    "pos1_x = get_hole_pos_by_pipe_id(26)[0]\n",
    "pos1 = [pos1_x, 115]\n",
    "list_split_position1 = [[pos1_x, y - 30] for _, y in mags]\n",
    "# 24\n",
    "pos2_x = get_hole_pos_by_pipe_id(24)[0]\n",
    "pos2 = [pos2_x, 115]\n",
    "list_split_position2 = [[pos2_x, y - 30] for _, y in mags]\n",
    "# 44\n",
    "pos3_x = get_hole_pos_by_pipe_id(44)[0]\n",
    "pos3 = [pos3_x, 600]\n",
    "list_split_position3 = [[pos3_x, y - 30] for _, y in mags]\n",
    "# 46\n",
    "pos4_x = get_hole_pos_by_pipe_id(46)[0]\n",
    "pos4 = [pos4_x, 600]\n",
    "list_split_position4 = [[pos4_x, y - 30] for _, y in mags]\n",
    "\n",
    "vbox_id1 = api_handle.send_command(f\"vbox add {list_to_string(pos1)} {ONE_UL_LEN * math.sqrt(orig_volume)}\")\n",
    "vbox_id2 = api_handle.send_command(f\"vbox add {list_to_string(pos2)} {ONE_UL_LEN * math.sqrt(orig_volume)}\")\n",
    "vbox_id3 = api_handle.send_command(f\"vbox add {list_to_string(pos3)} {ONE_UL_LEN * math.sqrt(orig_volume)}\")\n",
    "vbox_id4 = api_handle.send_command(f\"vbox add {list_to_string(pos4)} {ONE_UL_LEN * math.sqrt(orig_volume)}\")"
   ]
  },
  {
   "cell_type": "code",
   "execution_count": null,
   "metadata": {},
   "outputs": [],
   "source": [
    "with ThreadPoolExecutor() as executor:\n",
    "    f1 = executor.submit(extract_droplet_v2, vbox_id1, 'down', orig_volume, drp_vol_ampure, drp_num, list_split_position1, 4)\n",
    "    f2 = executor.submit(extract_droplet_v2, vbox_id2, 'down', orig_volume, drp_vol_ampure, drp_num, list_split_position2, 4)\n",
    "    f3 = executor.submit(extract_droplet_v2, vbox_id3, 'up', orig_volume, drp_vol_ampure, drp_num, list_split_position3, 4)\n",
    "    f4 = executor.submit(extract_droplet_v2, vbox_id4, 'up', orig_volume, drp_vol_ampure, drp_num, list_split_position4, 4)\n",
    "    vbox_list_1, unused_1 = f1.result()\n",
    "    vbox_list_2, unused_2 = f2.result()\n",
    "    vbox_list_3, unused_3 = f3.result()\n",
    "    vbox_list_4, unused_4 = f4.result()"
   ]
  },
  {
   "cell_type": "code",
   "execution_count": null,
   "metadata": {},
   "outputs": [],
   "source": [
    "ampures = []\n",
    "for vbox_id in vbox_list_3 + vbox_list_1 + vbox_list_4 + vbox_list_2:\n",
    "    drp_id = api_handle.send_command(f\"vbox 2drp {vbox_id}\")\n",
    "    api_handle.send_command(f\"set_speed {drp_id} {1}\")\n",
    "    ampures.append(drp_id)\n",
    "print(ampures)"
   ]
  },
  {
   "cell_type": "code",
   "execution_count": null,
   "metadata": {},
   "outputs": [],
   "source": [
    "t1 = threading.Thread(target = move_drps_to_tmp_pos, args = (ampures, get_mags(1, 0, 6, 3), 'up'))\n",
    "t2 = threading.Thread(target = move_drps_to_points, args = (drps_frags, get_mags(1, 0, 6, 3), False))\n",
    "t1.start()\n",
    "t2.start()"
   ]
  },
  {
   "cell_type": "code",
   "execution_count": null,
   "metadata": {},
   "outputs": [],
   "source": [
    "# 多余磁珠排废\n",
    "t_x = get_hole_pos_by_pipe_id(12)[0]\n",
    "t_y = 40\n",
    "t1 = threading.Thread(target = move_vbox_p, args = (unused_1, t_x, t_y, MoveDirection.Horizontal.value))\n",
    "t2 = threading.Thread(target = move_vbox_p, args = (unused_2, t_x, t_y, MoveDirection.Horizontal.value))\n",
    "t1.start()\n",
    "t2.start()\n",
    "\n",
    "t_x, t_y = 984, 615\n",
    "t1 = threading.Thread(target = move_vbox_p, args = (unused_3, t_x, t_y, MoveDirection.Vertical.value))\n",
    "t2 = threading.Thread(target = move_vbox_p, args = (unused_4, t_x, t_y, MoveDirection.Vertical.value))\n",
    "t1.start()\n",
    "t2.start()"
   ]
  },
  {
   "cell_type": "code",
   "execution_count": null,
   "metadata": {},
   "outputs": [],
   "source": [
    "# ampures向样本merge\n",
    "af.merge_all(ampures, drps_frags, wait = True)"
   ]
  },
  {
   "cell_type": "code",
   "execution_count": null,
   "metadata": {},
   "outputs": [],
   "source": [
    "# mix\n",
    "drps_frags = mix_func(drps_frags, 10)"
   ]
  },
  {
   "cell_type": "code",
   "execution_count": null,
   "metadata": {},
   "outputs": [],
   "source": [
    "# 已使用16, 14, 56, 58号孔位\n",
    "# 移上清\n",
    "for id in drps_frags:\n",
    "    api_handle.send_command(f\"set_speed {id} 0.5\")"
   ]
  },
  {
   "cell_type": "code",
   "execution_count": null,
   "metadata": {},
   "outputs": [],
   "source": [
    "mags = get_mags(1, 0, 6, 3,arrange=0)\n",
    "drps_frags = []\n",
    "for pos in mags:\n",
    "    vbox = api_handle.send_command(f\"vbox add {list_to_string(pos)} {ONE_UL_LEN * math.sqrt(3)}\")\n",
    "    drp_id = api_handle.send_command(f\"vbox 2drp {vbox}\")\n",
    "    drps_frags.append(drp_id)"
   ]
  },
  {
   "cell_type": "code",
   "execution_count": null,
   "metadata": {},
   "outputs": [],
   "source": [
    "t = garbage_drps(drps_frags)\n",
    "t.join()"
   ]
  },
  {
   "cell_type": "markdown",
   "metadata": {},
   "source": [
    "片段化产物纯化-wash-1"
   ]
  },
  {
   "cell_type": "code",
   "execution_count": null,
   "metadata": {},
   "outputs": [],
   "source": [
    "# wash，共2次\n",
    "# 目前已使用58, 56, 14 ,16, 54, 52号孔位\n",
    "# wash buffer 从8,6,4号孔位进样，一个孔位进16ul，每颗液滴2ul，单孔位液体分成8颗液滴，3个孔位共计24颗液滴\n",
    "washing_buffer_list = []\n",
    "interval2 = 60"
   ]
  },
  {
   "cell_type": "code",
   "execution_count": null,
   "metadata": {},
   "outputs": [],
   "source": [
    "drp_vol_washing_buffer = 1.5\n",
    "orig_volume = drp_vol_washing_buffer * 8 + 1\n",
    "# pipe: 8\n",
    "pos1 = [945, get_hole_pos_by_pipe_id(8)[1]]\n",
    "pos1_x = pos1[0]\n",
    "list_split_position1 = [[910 - interval2 * i, pos1[1]] for i in range(8)]\n",
    "list_split_position1.reverse()\n",
    "# pipe: 6\n",
    "pos2 = [945, get_hole_pos_by_pipe_id(6)[1]]\n",
    "pos2_x = pos2[0]\n",
    "list_split_position2 = [[910 - interval2 * i, pos2[1]] for i in range(8)]\n",
    "list_split_position2.reverse()\n",
    "# pipe: 4\n",
    "pos3 = [945, get_hole_pos_by_pipe_id(4)[1]]\n",
    "pos3_x = pos3[0]\n",
    "list_split_position3 = [[910 - interval2 * i, pos3[1]] for i in range(8)]\n",
    "list_split_position3.reverse()"
   ]
  },
  {
   "cell_type": "code",
   "execution_count": null,
   "metadata": {},
   "outputs": [],
   "source": [
    "vbox_id1 = api_handle.send_command(f\"vbox add {list_to_string(pos1)} {ONE_UL_LEN * math.sqrt(orig_volume)}\")\n",
    "vbox_id2 = api_handle.send_command(f\"vbox add {list_to_string(pos2)} {ONE_UL_LEN * math.sqrt(orig_volume)}\")\n",
    "vbox_id3 = api_handle.send_command(f\"vbox add {list_to_string(pos3)} {ONE_UL_LEN * math.sqrt(orig_volume)}\")"
   ]
  },
  {
   "cell_type": "code",
   "execution_count": null,
   "metadata": {},
   "outputs": [],
   "source": [
    "with ThreadPoolExecutor() as executor:\n",
    "    f1 = executor.submit(extract_droplet_v2, vbox_id1, 'left', orig_volume, drp_vol_washing_buffer, 8, list_split_position1, extract_time = 3)\n",
    "    f2 = executor.submit(extract_droplet_v2, vbox_id2, 'left', orig_volume, drp_vol_washing_buffer, 8, list_split_position2, extract_time = 3)\n",
    "    f3 = executor.submit(extract_droplet_v2, vbox_id3, 'left', orig_volume, drp_vol_washing_buffer, 8, list_split_position3, extract_time = 3)\n",
    "    vbox_list_1, unused_1 = f1.result()\n",
    "    vbox_list_2, unused_2 = f2.result()\n",
    "    vbox_list_3, unused_3 = f3.result()\n",
    "for vbox_id in vbox_list_1 + vbox_list_2 + vbox_list_3:\n",
    "    drp_id = api_handle.send_command(f\"vbox 2drp {vbox_id}\")\n",
    "    api_handle.send_command(f\"set_speed {drp_id} {speed}\")\n",
    "    washing_buffer_list.append(drp_id)\n",
    "print(washing_buffer_list)"
   ]
  },
  {
   "cell_type": "code",
   "execution_count": null,
   "metadata": {},
   "outputs": [],
   "source": [
    "for unused in [unused_1, unused_2, unused_3]:\n",
    "    api_handle.send_command(f\"vbox move {unused} {list_to_string(get_hole_pos_by_pipe_id(12))} 4\")"
   ]
  },
  {
   "cell_type": "code",
   "execution_count": null,
   "metadata": {},
   "outputs": [],
   "source": [
    "# 统一对齐\n",
    "tmp_poses = get_mags(1, 0, 6, 3, arrange = 1)\n",
    "tags = []\n",
    "for drp_id, pos in zip(washing_buffer_list, tmp_poses):\n",
    "    tags.append(move_to_y(drp_id, pos[1] - y_offset))\n",
    "af.wait_tag_all(tags)"
   ]
  },
  {
   "cell_type": "code",
   "execution_count": null,
   "metadata": {},
   "outputs": [],
   "source": [
    "tags = [api_handle.send_command(f\"move_p {id} {list_to_string(pos)} {MoveDirection.Horizontal.value}\") for id, pos in zip(washing_buffer_list, tmp_poses)]\n",
    "af.wait_tag_all(tags)"
   ]
  },
  {
   "cell_type": "code",
   "execution_count": null,
   "metadata": {},
   "outputs": [],
   "source": [
    "washing_buffer_list = row_to_column_sort(washing_buffer_list)"
   ]
  },
  {
   "cell_type": "code",
   "execution_count": null,
   "metadata": {},
   "outputs": [],
   "source": [
    "washing_buffer_list = mix_func(washing_buffer_list, 10)\n",
    "[api_handle.send_command(f\"set_speed {id} {speed}\") for id in washing_buffer_list]"
   ]
  },
  {
   "cell_type": "code",
   "execution_count": null,
   "metadata": {},
   "outputs": [],
   "source": [
    "# 移上清\n",
    "drps = washing_buffer_list\n",
    "t = garbage_drps(drps)"
   ]
  },
  {
   "cell_type": "markdown",
   "metadata": {},
   "source": [
    "片段化产物纯化-wash-2"
   ]
  },
  {
   "cell_type": "code",
   "execution_count": null,
   "metadata": {},
   "outputs": [],
   "source": [
    "washing_buffer_list = []\n",
    "vbox_id1 = api_handle.send_command(f\"vbox add {list_to_string(pos1)} {ONE_UL_LEN * math.sqrt(orig_volume)}\")\n",
    "vbox_id2 = api_handle.send_command(f\"vbox add {list_to_string(pos2)} {ONE_UL_LEN * math.sqrt(orig_volume)}\")\n",
    "vbox_id3 = api_handle.send_command(f\"vbox add {list_to_string(pos3)} {ONE_UL_LEN * math.sqrt(orig_volume)}\")"
   ]
  },
  {
   "cell_type": "code",
   "execution_count": null,
   "metadata": {},
   "outputs": [],
   "source": [
    "with ThreadPoolExecutor() as executor:\n",
    "    f1 = executor.submit(extract_droplet_v2, vbox_id1, 'left', orig_volume, drp_vol_washing_buffer, 8, list_split_position1)\n",
    "    f2 = executor.submit(extract_droplet_v2, vbox_id2, 'left', orig_volume, drp_vol_washing_buffer, 8, list_split_position2)\n",
    "    f3 = executor.submit(extract_droplet_v2, vbox_id3, 'left', orig_volume, drp_vol_washing_buffer, 8, list_split_position3)\n",
    "    vbox_list_1, unused_1 = f1.result()\n",
    "    vbox_list_2, unused_2 = f2.result()\n",
    "    vbox_list_3, unused_3 = f3.result()\n",
    "for vbox_id in vbox_list_1 + vbox_list_2 + vbox_list_3:\n",
    "    drp_id = api_handle.send_command(f\"vbox 2drp {vbox_id}\")\n",
    "    api_handle.send_command(f\"set_speed {drp_id} {1.3}\")\n",
    "    washing_buffer_list.append(drp_id)\n",
    "print(washing_buffer_list)"
   ]
  },
  {
   "cell_type": "code",
   "execution_count": null,
   "metadata": {},
   "outputs": [],
   "source": [
    "for unused in [unused_1, unused_2, unused_3]:\n",
    "    api_handle.send_command(f\"vbox move {unused} {list_to_string(get_hole_pos_by_pipe_id(12))} 4\")"
   ]
  },
  {
   "cell_type": "code",
   "execution_count": null,
   "metadata": {},
   "outputs": [],
   "source": [
    "# 统一对齐\n",
    "tmp_poses = get_mags(1, 0, 6, 3, arrange = 1)\n",
    "tags = []\n",
    "for drp_id, pos in zip(washing_buffer_list, tmp_poses):\n",
    "    tags.append(move_to_y(drp_id, pos[1] - y_offset))\n",
    "af.wait_tag_all(tags)\n",
    "\n",
    "tags = [api_handle.send_command(f\"move_p {id} {list_to_string(pos)} {MoveDirection.Horizontal.value}\") for id, pos in zip(washing_buffer_list, tmp_poses)]\n",
    "af.wait_tag_all(tags)"
   ]
  },
  {
   "cell_type": "code",
   "execution_count": null,
   "metadata": {},
   "outputs": [],
   "source": [
    "washing_buffer_list = row_to_column_sort(washing_buffer_list)"
   ]
  },
  {
   "cell_type": "code",
   "execution_count": null,
   "metadata": {},
   "outputs": [],
   "source": [
    "washing_buffer_list = mix_func(washing_buffer_list, 10)\n",
    "[api_handle.send_command(f\"set_speed {id} {1.3}\") for id in washing_buffer_list]"
   ]
  },
  {
   "cell_type": "code",
   "execution_count": null,
   "metadata": {},
   "outputs": [],
   "source": [
    "# 移上清\n",
    "drps = washing_buffer_list\n",
    "t = garbage_drps(drps)\n",
    "t.join()"
   ]
  },
  {
   "cell_type": "markdown",
   "metadata": {},
   "source": [
    "片段化产物纯化-ddH20"
   ]
  },
  {
   "cell_type": "code",
   "execution_count": null,
   "metadata": {},
   "outputs": [],
   "source": [
    "# 目前已使用58, 56, 14 ,16, 54, 52, 8, 6, 4号孔位\n",
    "# ddH20从20, 50号孔位进样\n",
    "# 因现在一颗大液滴被分成了2颗小液滴，故进样时每颗液滴要进预设体积的一半，即1/2 = 0.5ul\n",
    "# 每个孔位进12颗，每颗0.5ul，每个孔位进样12*0.5 = 6ul\n",
    "interval_y = 45\n",
    "ddH20_list = []\n",
    "drp_vol_ddH20 = 0.5\n",
    "drp_num_ddH20 = 12\n",
    "orig_volume = drp_vol_ddH20 * drp_num_ddH20 + 1\n",
    "# pipe: 20\n",
    "pos1_x = get_hole_pos_by_pipe_id(20)[0]\n",
    "pos1 = [pos1_x, get_hole_pos_by_pipe_id(20)[1] + 50]\n",
    "list_split_position1 = [[pos1_x, pos1[1] + interval_y * i] for i in range(12)]\n",
    "# pipe: 50\n",
    "pos2_x = get_hole_pos_by_pipe_id(50)[0]\n",
    "pos2 = [pos2_x, get_hole_pos_by_pipe_id(50)[1] - 50]\n",
    "list_split_position2 = [[pos2_x, pos2[1] - interval_y * i] for i in range(12)][::-1]"
   ]
  },
  {
   "cell_type": "code",
   "execution_count": null,
   "metadata": {},
   "outputs": [],
   "source": [
    "vbox_id1 = api_handle.send_command(f\"vbox add {list_to_string(pos1)} {ONE_UL_LEN * math.sqrt(orig_volume)}\")\n",
    "vbox_id2 = api_handle.send_command(f\"vbox add {list_to_string(pos2)} {ONE_UL_LEN * math.sqrt(orig_volume)}\")"
   ]
  },
  {
   "cell_type": "code",
   "execution_count": null,
   "metadata": {},
   "outputs": [],
   "source": [
    "with ThreadPoolExecutor() as executor:\n",
    "    f1 = executor.submit(extract_droplet_v2, vbox_id1, 'down', orig_volume, drp_vol_ddH20, drp_num_ddH20, list_split_position1)\n",
    "    f2 = executor.submit(extract_droplet_v2, vbox_id2, 'up', orig_volume, drp_vol_ddH20, drp_num_ddH20, list_split_position2)\n",
    "    vbox_list_1, unused_1 = f1.result()\n",
    "    vbox_list_2, unused_2 = f2.result()\n",
    "for vbox_id in vbox_list_1 + vbox_list_2:\n",
    "    drp_id = api_handle.send_command(f\"vbox 2drp {vbox_id}\")\n",
    "    api_handle.send_command(f\"set_speed {drp_id} {speed}\")\n",
    "    ddH20_list.append(drp_id)"
   ]
  },
  {
   "cell_type": "code",
   "execution_count": null,
   "metadata": {},
   "outputs": [],
   "source": [
    "move_shift_vbox(unused_1, 0, -50, 2)\n",
    "move_shift_vbox(unused_2, 0, 50, 2)"
   ]
  },
  {
   "cell_type": "code",
   "execution_count": null,
   "metadata": {},
   "outputs": [],
   "source": [
    "mags = get_mags(1, 0, 6, 3, arrange=0)\n",
    "ddH20_list_sorted = ddH20_list[-len(ddH20_list)//2:] + ddH20_list[:len(ddH20_list)//2]\n",
    "num_of_group = len(ddH20_list_sorted) // 4\n",
    "# 第一组和最后一组向两边移动\n",
    "af.move_shift_all(ddH20_list_sorted[:num_of_group], -30, 0, False)\n",
    "af.move_shift_all(ddH20_list_sorted[-num_of_group:], 30, 0, True)\n",
    "time.sleep(1)\n",
    "# 对齐\n",
    "tags = []\n",
    "for drp_id, pos in zip(ddH20_list_sorted, mags):\n",
    "    tags.append(move_to_y(drp_id, pos[1] - y_offset))\n",
    "af.wait_tag_all(tags)\n",
    "# 移动至磁控点\n",
    "tags = []\n",
    "for drp_id, pos in zip(ddH20_list_sorted, mags):\n",
    "    tags.append(move_to_x(drp_id, pos[0]))\n",
    "af.wait_tag_all(tags)\n",
    "tags = []\n",
    "for drp_id, pos in zip(ddH20_list_sorted, mags):\n",
    "    tags.append(move_to_y(drp_id, pos[1]))\n",
    "af.wait_tag_all(tags)"
   ]
  },
  {
   "cell_type": "code",
   "execution_count": null,
   "metadata": {},
   "outputs": [],
   "source": [
    "ddH20_list = mix_func(ddH20_list_sorted, 10)\n",
    "[api_handle.send_command(f\"set_speed {id} {speed}\") for id in ddH20_list]"
   ]
  },
  {
   "cell_type": "markdown",
   "metadata": {},
   "source": [
    "片段化产物纯化-ddH20移动到暂存位置"
   ]
  },
  {
   "cell_type": "code",
   "execution_count": null,
   "metadata": {},
   "outputs": [],
   "source": [
    "# 先将后面两排移过来\n",
    "length = 12\n",
    "drps = ddH20_list[:length]\n",
    "\n",
    "tags = []\n",
    "for id, (x, y) in zip(drps, mags[-length:]):\n",
    "    tags.append(api_handle.send_command(f\"move_p {id} {x} {y - 35} {MoveDirection.Vertical.value}\"))\n",
    "af.wait_tag_all(tags)\n",
    "\n",
    "af.merge_all(ddH20_list[:length], ddH20_list[-length:], True)\n",
    "ddH20_list = ddH20_list[-length:]"
   ]
  },
  {
   "cell_type": "code",
   "execution_count": null,
   "metadata": {},
   "outputs": [],
   "source": [
    "ddH20_list = mix_func(ddH20_list, 10)"
   ]
  },
  {
   "cell_type": "code",
   "execution_count": null,
   "metadata": {},
   "outputs": [],
   "source": [
    "api_handle.send_command(\"mag up\")\n",
    "time.sleep(5)\n",
    "# 斜对角移动，让磁珠充分吸附在磁控点上\n",
    "# 右\n",
    "af.move_shift_all(ddH20_list, 30, 0, True)\n",
    "# 下\n",
    "af.move_shift_all(ddH20_list, 0, 30, True)\n",
    "time.sleep(1)\n",
    "# 左上\n",
    "af.move_shift_all(ddH20_list, -60, -65)\n",
    "# 将有效液体移至左边\n",
    "move_drps_to_points(ddH20_list, [[x, y - 35] for x, y in mags[:12]], False)"
   ]
  },
  {
   "cell_type": "markdown",
   "metadata": {},
   "source": [
    "片段化产物纯化-加水重悬磁珠并排废"
   ]
  },
  {
   "cell_type": "code",
   "execution_count": null,
   "metadata": {},
   "outputs": [],
   "source": [
    "# 为了移除磁珠，需再加入水使磁珠重悬\n",
    "# 50, 20号孔位各进6颗1ul液滴\n",
    "# 并行处理50号和20号孔位的液滴提取\n",
    "orig_volume = 7\n",
    "# pipe: 50\n",
    "pos1_x = get_hole_pos_by_pipe_id(50)[0]\n",
    "pos1 = [pos1_x, get_hole_pos_by_pipe_id(50)[1] - 40]\n",
    "list_split_position1 = [[pos1_x, y] for _, y in get_mags(1, 0, 6, 0, arrange=1)]\n",
    "# pipe: 20\n",
    "pos2_x = get_hole_pos_by_pipe_id(20)[0]\n",
    "pos2 = [pos2_x, get_hole_pos_by_pipe_id(20)[1] + 40]\n",
    "list_split_position2 = [[pos2_x, y] for _, y in get_mags(1, 0, 6, 0, arrange=1)]\n",
    "\n",
    "vbox_id1 = api_handle.send_command(f\"vbox add {list_to_string(pos1)} {ONE_UL_LEN * math.sqrt(orig_volume)}\")\n",
    "vbox_id2 = api_handle.send_command(f\"vbox add {list_to_string(pos2)} {ONE_UL_LEN * math.sqrt(orig_volume)}\")"
   ]
  },
  {
   "cell_type": "code",
   "execution_count": null,
   "metadata": {},
   "outputs": [],
   "source": [
    "with ThreadPoolExecutor() as executor:\n",
    "    f1 = executor.submit(extract_droplet_v2, vbox_id1, 'up', orig_volume, 1, 6, list_split_position1)\n",
    "    f2 = executor.submit(extract_droplet_v2, vbox_id2, 'down', orig_volume, 1, 6, list_split_position2)\n",
    "    vbox_list_1, unused_1 = f1.result()\n",
    "    vbox_list_2, unused_2 = f2.result()\n",
    "tmp_H20_list = []\n",
    "for vbox_id in vbox_list_1 + vbox_list_2:\n",
    "    drp_id = api_handle.send_command(f\"vbox 2drp {vbox_id}\")\n",
    "    api_handle.send_command(f\"set_speed {drp_id} {speed}\")\n",
    "    tmp_H20_list.append(drp_id)"
   ]
  },
  {
   "cell_type": "code",
   "execution_count": null,
   "metadata": {},
   "outputs": [],
   "source": [
    "pos_pipe0_x, pos_pipe0_y = get_hole_pos_by_pipe_id(0)\n",
    "pos_pipe12_x, pos_pipe12_y = get_hole_pos_by_pipe_id(12)"
   ]
  },
  {
   "cell_type": "code",
   "execution_count": null,
   "metadata": {},
   "outputs": [],
   "source": [
    "t1 = threading.Thread(target = move_vbox_p, args = (unused_1, pos_pipe0_x, pos_pipe0_y, MoveDirection.Vertical.value))\n",
    "t1.start()\n",
    "t2 = threading.Thread(target = move_vbox_p, args = (unused_2, pos_pipe12_x, pos_pipe12_y, MoveDirection.Horizontal.value))\n",
    "t2.start()"
   ]
  },
  {
   "cell_type": "code",
   "execution_count": null,
   "metadata": {},
   "outputs": [],
   "source": [
    "mags = get_mags(1, 2, 6, 3, arrange=0)\n",
    "move_drps_to_points(tmp_H20_list, mags, True, 'up')"
   ]
  },
  {
   "cell_type": "code",
   "execution_count": null,
   "metadata": {},
   "outputs": [],
   "source": [
    "api_handle.send_command(\"mag down\")\n",
    "time.sleep(2)\n",
    "# mix使其充分重悬\n",
    "tmp_H20_list = mix_func(tmp_H20_list, 10)"
   ]
  },
  {
   "cell_type": "code",
   "execution_count": null,
   "metadata": {},
   "outputs": [],
   "source": [
    "# garbabe beads\n",
    "drps = tmp_H20_list\n",
    "t = garbage_drps(drps, mag_up=False)\n",
    "t.join()"
   ]
  },
  {
   "cell_type": "code",
   "execution_count": null,
   "metadata": {},
   "outputs": [],
   "source": [
    "# 将片段化纯化产物(ddH20)移回磁控点\n",
    "mags = get_mags(1, 2, 6, 3, arrange=0)\n",
    "move_drps_to_points(ddH20_list, mags, path_temp_point=True, temp_point_dir='up')"
   ]
  },
  {
   "cell_type": "markdown",
   "metadata": {},
   "source": [
    "PCR扩增-加入PCR"
   ]
  },
  {
   "cell_type": "code",
   "execution_count": null,
   "metadata": {},
   "outputs": [],
   "source": [
    "# 加入12个sPCR\n",
    "# 目前已使用58, 56, 54, 52, 50, 14 ,16, 20, 8, 6, 4号孔位\n",
    "drps_pcr = []\n",
    "# PCR从18号孔位进样，每次进6颗，每颗1.3 ul\n",
    "pos_x, pos_y = get_hole_pos_by_pipe_id(18)[0], 120\n",
    "drp_vol_pcr = 1.3\n",
    "orig_volume = drp_vol_pcr * drp_num + 1.5\n",
    "list_split_position = [[pos_x, y - 30] for _, y in mag_centers[1:7]]\n",
    "vbox_id = api_handle.send_command(f\"vbox add {pos_x} {pos_y} {ONE_UL_LEN * math.sqrt(orig_volume)}\")"
   ]
  },
  {
   "cell_type": "code",
   "execution_count": null,
   "metadata": {},
   "outputs": [],
   "source": [
    "vbox_list, unused = extract_droplet_v2(vbox_id, 'down', orig_volume, drp_vol_pcr, 6, list_split_position)"
   ]
  },
  {
   "cell_type": "code",
   "execution_count": null,
   "metadata": {},
   "outputs": [],
   "source": [
    "pos_pipe12_x, pos_pipe12_y = get_hole_pos_by_pipe_id(12)\n",
    "t = threading.Thread(target = move_vbox_p, args = (unused, pos_pipe12_x, pos_pipe12_y, MoveDirection.Horizontal.value))\n",
    "t.start()"
   ]
  },
  {
   "cell_type": "code",
   "execution_count": null,
   "metadata": {},
   "outputs": [],
   "source": [
    "for vbox_id in vbox_list:\n",
    "    drp_id = api_handle.send_command(f\"vbox 2drp {vbox_id}\")\n",
    "    api_handle.send_command(f\"set_speed {drp_id} {speed}\")\n",
    "    drps_pcr.append(drp_id)"
   ]
  },
  {
   "cell_type": "code",
   "execution_count": null,
   "metadata": {},
   "outputs": [],
   "source": [
    "move_drps_to_tmp_pos(drps_pcr, get_mags(1, 2, 6, 2, arrange=0), 'up')"
   ]
  },
  {
   "cell_type": "code",
   "execution_count": null,
   "metadata": {},
   "outputs": [],
   "source": [
    "drps_pcr2 = []\n",
    "# PCR从18号孔位进样，每次进6颗，每颗1.3 ul\n",
    "pos_x, pos_y = get_hole_pos_by_pipe_id(18)[0], 120\n",
    "drp_vol_pcr = 1.3\n",
    "orig_volume = drp_vol_pcr * drp_num + 1.5\n",
    "list_split_position = [[pos_x, y - 30] for _, y in mag_centers[1:7]]\n",
    "vbox_id = api_handle.send_command(f\"vbox add {pos_x} {pos_y} {ONE_UL_LEN * math.sqrt(orig_volume)}\")"
   ]
  },
  {
   "cell_type": "code",
   "execution_count": null,
   "metadata": {},
   "outputs": [],
   "source": [
    "vbox_list, unused = extract_droplet_v2(vbox_id, 'down', orig_volume, drp_vol_pcr, 6, list_split_position)\n",
    "\n",
    "pos_pipe12_x, pos_pipe12_y = get_hole_pos_by_pipe_id(12)\n",
    "t = threading.Thread(target = move_vbox_p, args = (unused, pos_pipe12_x, pos_pipe12_y, MoveDirection.Horizontal.value))\n",
    "t.start()\n",
    "\n",
    "for vbox_id in vbox_list:\n",
    "    drp_id = api_handle.send_command(f\"vbox 2drp {vbox_id}\")\n",
    "    api_handle.send_command(f\"set_speed {drp_id} {speed}\")\n",
    "    drps_pcr2.append(drp_id)\n",
    "\n",
    "drps_pcr.extend(drps_pcr2)\n",
    "move_drps_to_tmp_pos(drps_pcr2, get_mags(1, 3, 6, 3, arrange=0), 'up')"
   ]
  },
  {
   "cell_type": "code",
   "execution_count": null,
   "metadata": {},
   "outputs": [],
   "source": [
    "# PCR进样完毕，和片段化纯化产物合并\n",
    "af.merge_all(drps_pcr, ddH20_list, wait = True)"
   ]
  },
  {
   "cell_type": "markdown",
   "metadata": {},
   "source": [
    "PCR扩增-primer进样"
   ]
  },
  {
   "cell_type": "code",
   "execution_count": null,
   "metadata": {},
   "outputs": [],
   "source": [
    "# 12个primer，一次进6颗，分两批进样\n",
    "# 目前已使用58, 56, 54, 52, 50, 14 ,16, 18, 20, 8, 6, 4号孔位\n",
    "# 2号孔位进样\n",
    "# 第一批\n",
    "drps_primer = []\n",
    "pos_x, pos_y = 942, get_hole_pos_by_pipe_id(2)[1]\n",
    "drp_vol_primer = 0.3\n",
    "orig_volume = drp_vol_primer * drp_num + 0.5\n",
    "list_split_position = [[420, y - 30] for _, y in mag_centers[1:7]]"
   ]
  },
  {
   "cell_type": "code",
   "execution_count": null,
   "metadata": {},
   "outputs": [],
   "source": [
    "vbox_id = api_handle.send_command(f\"vbox add {pos_x} {pos_y} {ONE_UL_LEN * math.sqrt(orig_volume)}\")"
   ]
  },
  {
   "cell_type": "code",
   "execution_count": null,
   "metadata": {},
   "outputs": [],
   "source": [
    "vbox_list, unused = extract_droplet_v2(vbox_id, 'left', orig_volume, drp_vol_primer, 6, list_split_position)"
   ]
  },
  {
   "cell_type": "code",
   "execution_count": null,
   "metadata": {},
   "outputs": [],
   "source": [
    "drps = []\n",
    "for vbox_id in vbox_list:\n",
    "    drp_id = api_handle.send_command(f\"vbox 2drp {vbox_id}\")\n",
    "    api_handle.send_command(f\"set_speed {drp_id} {speed}\")\n",
    "    drps.append(drp_id)\n",
    "move_drps_to_tmp_pos(drps, get_mags(1, 2, 6, 2, arrange=0), 'up')"
   ]
  },
  {
   "cell_type": "code",
   "execution_count": null,
   "metadata": {},
   "outputs": [],
   "source": [
    "drps_primer.extend(drps)"
   ]
  },
  {
   "cell_type": "code",
   "execution_count": null,
   "metadata": {},
   "outputs": [],
   "source": [
    "# 第二批\n",
    "vbox_id = api_handle.send_command(f\"vbox add {pos_x} {pos_y} {ONE_UL_LEN * math.sqrt(orig_volume)}\")"
   ]
  },
  {
   "cell_type": "code",
   "execution_count": null,
   "metadata": {},
   "outputs": [],
   "source": [
    "vbox_list, unused = extract_droplet_v2(vbox_id, 'left', orig_volume, drp_vol_primer, 6, list_split_position)\n",
    "\n",
    "drps = []\n",
    "for vbox_id in vbox_list:\n",
    "    drp_id = api_handle.send_command(f\"vbox 2drp {vbox_id}\")\n",
    "    api_handle.send_command(f\"set_speed {drp_id} {speed}\")\n",
    "    drps.append(drp_id)\n",
    "move_drps_to_tmp_pos(drps, get_mags(1, 3, 6, 3, arrange=0), 'up')"
   ]
  },
  {
   "cell_type": "code",
   "execution_count": null,
   "metadata": {},
   "outputs": [],
   "source": [
    "drps_primer.extend(drps)"
   ]
  },
  {
   "cell_type": "code",
   "execution_count": null,
   "metadata": {},
   "outputs": [],
   "source": [
    "# primer进样完毕，和PCR混匀\n",
    "af.merge_all(drps_primer, ddH20_list, wait = True)"
   ]
  },
  {
   "cell_type": "code",
   "execution_count": null,
   "metadata": {},
   "outputs": [],
   "source": [
    "ddH20_list = mix_func(ddH20_list, 10)"
   ]
  },
  {
   "cell_type": "code",
   "execution_count": null,
   "metadata": {},
   "outputs": [],
   "source": [
    "x_shift = 686 - get_droplet_central_point(ddH20_list[0])[0]\n",
    "af.move_shift_all(ddH20_list, x_shift, 0, wait = True)"
   ]
  },
  {
   "cell_type": "code",
   "execution_count": null,
   "metadata": {},
   "outputs": [],
   "source": [
    "# 因体积过大需要拆分\n",
    "drps_pcr_result_tmp = batch_even_split_2(ddH20_list, 2)"
   ]
  },
  {
   "cell_type": "code",
   "execution_count": null,
   "metadata": {},
   "outputs": [],
   "source": [
    "drps_pcr_result = [None] * 24\n",
    "for i, pair in enumerate(drps_pcr_result_tmp):\n",
    "    if i < 6:\n",
    "        drps_pcr_result[i] = pair[0]\n",
    "        drps_pcr_result[i + 6] = pair[1]\n",
    "    else:\n",
    "        drps_pcr_result[i + 6] = pair[0]\n",
    "        drps_pcr_result[i + 12] = pair[1]"
   ]
  },
  {
   "cell_type": "code",
   "execution_count": null,
   "metadata": {},
   "outputs": [],
   "source": [
    "af.move_shift_all(drps_pcr_result[:12], -30, 0, wait = True)"
   ]
  },
  {
   "cell_type": "code",
   "execution_count": null,
   "metadata": {},
   "outputs": [],
   "source": [
    "# 在加热区加热\n",
    "# 30s 72℃, 30s 95℃\n",
    "# 10s 95℃, 30s 55℃, 30s 72℃ (5-9 cycles)\n",
    "# 5min 72℃\n",
    "\n",
    "# def heater(target_temp, duration):\n",
    "#     api_handle.send_command(f\"heater skip {0}\")\n",
    "#     api_handle.send_command(f\"heater skip {1}\")\n",
    "#     api_handle.send_command(f\"heater add_cycle {0} {target_temp} {duration + 10} {0} {0}\")\n",
    "#     api_handle.send_command(f\"heater add_cycle {1} {target_temp} {duration + 10} {0} {0}\")\n",
    "#     api_handle.send_command(\"heater start 0\")\n",
    "#     api_handle.send_command(\"heater start 1\")\n",
    "    \n",
    "# def heater(parameters: list):\n",
    "    \n",
    "\n",
    "drps_pcr_result = mix_func(drps_pcr_result, 10)"
   ]
  },
  {
   "cell_type": "code",
   "execution_count": null,
   "metadata": {},
   "outputs": [],
   "source": [
    "# 将分裂后的液滴移动到磁控点摆放规则\n",
    "move_drps_to_points(drps_pcr_result, get_mags(1, 0, 6, 3, arrange=0))"
   ]
  },
  {
   "cell_type": "markdown",
   "metadata": {},
   "source": [
    "PCR产物纯化-加入1st 磁珠"
   ]
  },
  {
   "cell_type": "code",
   "execution_count": null,
   "metadata": {},
   "outputs": [],
   "source": [
    "# 加入磁珠 1st\n",
    "# 目前已使用58, 56, 54, 52, 50, 14 ,16, 18, 20, 8, 6, 4, 2号孔位\n",
    "# 使用52、54号孔位\n",
    "drps_ampure_1st_1 = []\n",
    "mags = mag_centers[1:7]\n",
    "orig_volume = 7\n",
    "# 52\n",
    "pos1_x = get_hole_pos_by_pipe_id(52)[0]\n",
    "pos1 = [pos1_x, 600]\n",
    "list_split_position1 = [[pos1_x, y - 35] for _, y in mags]\n",
    "# 54\n",
    "pos2_x = get_hole_pos_by_pipe_id(54)[0]\n",
    "pos2 = [pos2_x, 600]\n",
    "list_split_position2 = [[pos2_x, y - 35] for _, y in mags]\n",
    "\n",
    "vbox_id1 = api_handle.send_command(f\"vbox add {list_to_string(pos1)} {ONE_UL_LEN * math.sqrt(orig_volume)}\")\n",
    "vbox_id2 = api_handle.send_command(f\"vbox add {list_to_string(pos2)} {ONE_UL_LEN * math.sqrt(orig_volume)}\")"
   ]
  },
  {
   "cell_type": "code",
   "execution_count": null,
   "metadata": {},
   "outputs": [],
   "source": [
    "with ThreadPoolExecutor() as executor:\n",
    "    f1 = executor.submit(extract_droplet_v2, vbox_id1, 'up', orig_volume, 1, 6, list_split_position1)\n",
    "    f2 = executor.submit(extract_droplet_v2, vbox_id2, 'up', orig_volume, 1, 6, list_split_position2)\n",
    "    vbox_list_1, unused_1 = f1.result()\n",
    "    vbox_list_2, unused_2 = f2.result()\n",
    "for vbox_id in vbox_list_1 + vbox_list_2:\n",
    "    drp_id = api_handle.send_command(f\"vbox 2drp {vbox_id}\")\n",
    "    api_handle.send_command(f\"set_speed {drp_id} {speed}\")\n",
    "    drps_ampure_1st_1.append(drp_id)"
   ]
  },
  {
   "cell_type": "code",
   "execution_count": null,
   "metadata": {},
   "outputs": [],
   "source": [
    "# 下方液滴的排废孔在0号孔\n",
    "# time.sleep(90000)\n",
    "t_x, t_y = 1012, 640\n",
    "t1 = threading.Thread(target = move_vbox_p, args = (unused_1, t_x, t_y, MoveDirection.Vertical.value))\n",
    "t2 = threading.Thread(target = move_vbox_p, args = (unused_2, t_x, t_y, MoveDirection.Vertical.value))\n",
    "t1.start()\n",
    "t2.start()"
   ]
  },
  {
   "cell_type": "code",
   "execution_count": null,
   "metadata": {},
   "outputs": [],
   "source": [
    "move_drps_to_points(drps_ampure_1st_1, get_mags(1, 0, 6, 1, arrange=0), True, 'up')"
   ]
  },
  {
   "cell_type": "code",
   "execution_count": null,
   "metadata": {},
   "outputs": [],
   "source": [
    "first_half = drps_pcr_result[:12]\n",
    "af.merge_all(drps_ampure_1st_1, first_half, True)"
   ]
  },
  {
   "cell_type": "code",
   "execution_count": null,
   "metadata": {},
   "outputs": [],
   "source": [
    "def async_func1():\n",
    "    global first_half\n",
    "    first_half = mix_func(first_half, 200)\n",
    "thread_mix = threading.Thread(target = async_func1)\n",
    "thread_mix.start()"
   ]
  },
  {
   "cell_type": "code",
   "execution_count": null,
   "metadata": {},
   "outputs": [],
   "source": [
    "drps_ampure_1st_2 = []\n",
    "mags = mag_centers[1:7]\n",
    "orig_volume = 7\n",
    "# 52\n",
    "pos1_x = get_hole_pos_by_pipe_id(52)[0]\n",
    "pos1 = [pos1_x, 600]\n",
    "list_split_position1 = [[pos1_x, y - 35] for _, y in mags]\n",
    "# 54\n",
    "pos2_x = get_hole_pos_by_pipe_id(54)[0]\n",
    "pos2 = [pos2_x, 600]\n",
    "list_split_position2 = [[pos2_x, y - 35] for _, y in mags]\n",
    "\n",
    "vbox_id1 = api_handle.send_command(f\"vbox add {list_to_string(pos1)} {ONE_UL_LEN * math.sqrt(orig_volume)}\")\n",
    "vbox_id2 = api_handle.send_command(f\"vbox add {list_to_string(pos2)} {ONE_UL_LEN * math.sqrt(orig_volume)}\")"
   ]
  },
  {
   "cell_type": "code",
   "execution_count": null,
   "metadata": {},
   "outputs": [],
   "source": [
    "with ThreadPoolExecutor() as executor:\n",
    "    f1 = executor.submit(extract_droplet_v2, vbox_id1, 'up', orig_volume, 1, 6, list_split_position1)\n",
    "    f2 = executor.submit(extract_droplet_v2, vbox_id2, 'up', orig_volume, 1, 6, list_split_position2)\n",
    "    vbox_list_1, unused_1 = f1.result()\n",
    "    vbox_list_2, unused_2 = f2.result()\n",
    "for vbox_id in vbox_list_1 + vbox_list_2:\n",
    "    drp_id = api_handle.send_command(f\"vbox 2drp {vbox_id}\")\n",
    "    api_handle.send_command(f\"set_speed {drp_id} {speed}\")\n",
    "    drps_ampure_1st_2.append(drp_id)"
   ]
  },
  {
   "cell_type": "code",
   "execution_count": null,
   "metadata": {},
   "outputs": [],
   "source": [
    "# 下方液滴的排废孔在0号孔\n",
    "t_x, t_y = 1012, 640\n",
    "garbage_unused_t1 = threading.Thread(target = move_vbox_p, args = (unused_1, t_x, t_y, MoveDirection.Vertical.value))\n",
    "garbage_unused_t2 = threading.Thread(target = move_vbox_p, args = (unused_2, t_x, t_y, MoveDirection.Vertical.value))\n",
    "garbage_unused_t1.start()\n",
    "garbage_unused_t2.start()"
   ]
  },
  {
   "cell_type": "code",
   "execution_count": null,
   "metadata": {},
   "outputs": [],
   "source": [
    "move_drps_to_points(drps_ampure_1st_2, get_mags(1, 2, 6, 3, arrange=0), True, 'up')"
   ]
  },
  {
   "cell_type": "code",
   "execution_count": null,
   "metadata": {},
   "outputs": [],
   "source": [
    "latter_half = drps_pcr_result[-12:]\n",
    "af.merge_all(drps_ampure_1st_2, latter_half, True)"
   ]
  },
  {
   "cell_type": "code",
   "execution_count": null,
   "metadata": {},
   "outputs": [],
   "source": [
    "latter_half = mix_func(latter_half, 20)\n",
    "thread_mix.join()"
   ]
  },
  {
   "cell_type": "code",
   "execution_count": null,
   "metadata": {},
   "outputs": [],
   "source": [
    "drps_ampure_1st = first_half + latter_half"
   ]
  },
  {
   "cell_type": "code",
   "execution_count": null,
   "metadata": {},
   "outputs": [],
   "source": [
    "# 留上清液，去磁珠\n",
    "api_handle.send_command(\"mag up\")\n",
    "time.sleep(5)\n",
    "drps_ampure_1st = mix_func(drps_ampure_1st, 5)\n",
    "time.sleep(1)\n",
    "af.move_shift_all(drps_ampure_1st, 35, -35, wait = True)"
   ]
  },
  {
   "cell_type": "code",
   "execution_count": null,
   "metadata": {},
   "outputs": [],
   "source": [
    "# 加 1ul 水\n",
    "# TODO: 移除磁珠"
   ]
  },
  {
   "cell_type": "code",
   "execution_count": null,
   "metadata": {},
   "outputs": [],
   "source": [
    "# 上清液归位\n",
    "af.move_shift_all(drps_ampure_1st, -35, 35, wait = True)"
   ]
  },
  {
   "cell_type": "markdown",
   "metadata": {},
   "source": [
    "PCR产物纯化-加入2nd 磁珠"
   ]
  },
  {
   "cell_type": "code",
   "execution_count": null,
   "metadata": {},
   "outputs": [],
   "source": [
    "# 加入磁珠 2nd\n",
    "# 目前已使用58, 56, 54, 52, 50, 14 ,16, 18, 20, 8, 6, 4, 2号孔位\n",
    "# 使用52、54号孔位\n",
    "drps_ampure_2nd = []\n",
    "mags = mag_centers[1:7]\n",
    "orig_volume = 3.5\n",
    "# 52\n",
    "pos1_x = get_hole_pos_by_pipe_id(52)[0]\n",
    "pos1 = [pos1_x, 600]\n",
    "list_split_position1 = [[pos1_x, y - 35] for _, y in mags]\n",
    "# 54\n",
    "pos2_x = get_hole_pos_by_pipe_id(54)[0]\n",
    "pos2 = [pos2_x, 600]\n",
    "list_split_position2 = [[pos2_x, y - 35] for _, y in mags]\n",
    "\n",
    "vbox_id1 = api_handle.send_command(f\"vbox add {list_to_string(pos1)} {ONE_UL_LEN * math.sqrt(orig_volume)}\")\n",
    "vbox_id2 = api_handle.send_command(f\"vbox add {list_to_string(pos2)} {ONE_UL_LEN * math.sqrt(orig_volume)}\")"
   ]
  },
  {
   "cell_type": "code",
   "execution_count": null,
   "metadata": {},
   "outputs": [],
   "source": [
    "with ThreadPoolExecutor() as executor:\n",
    "    f1 = executor.submit(extract_droplet_v2, vbox_id1, 'up', orig_volume, 0.5, 6, list_split_position1)\n",
    "    f2 = executor.submit(extract_droplet_v2, vbox_id2, 'up', orig_volume, 0.5, 6, list_split_position2)\n",
    "    vbox_list_1, unused_1 = f1.result()\n",
    "    vbox_list_2, unused_2 = f2.result()\n",
    "for vbox_id in vbox_list_1 + vbox_list_2:\n",
    "    drp_id = api_handle.send_command(f\"vbox 2drp {vbox_id}\")\n",
    "    api_handle.send_command(f\"set_speed {drp_id} {speed}\")\n",
    "    drps_ampure_2nd.append(drp_id)"
   ]
  },
  {
   "cell_type": "code",
   "execution_count": null,
   "metadata": {},
   "outputs": [],
   "source": [
    "# 下方液滴的排废孔在0号孔\n",
    "t_x, t_y = 1012, 640\n",
    "t1 = threading.Thread(target = move_vbox_p, args = (unused_1, t_x, t_y, MoveDirection.Vertical.value))\n",
    "t2 = threading.Thread(target = move_vbox_p, args = (unused_2, t_x, t_y, MoveDirection.Vertical.value))\n",
    "t1.start()\n",
    "t2.start()"
   ]
  },
  {
   "cell_type": "code",
   "execution_count": null,
   "metadata": {},
   "outputs": [],
   "source": [
    "move_drps_to_points(drps_ampure_2nd, get_mags(1, 0, 6, 1, arrange=0), True, 'up')"
   ]
  },
  {
   "cell_type": "code",
   "execution_count": null,
   "metadata": {},
   "outputs": [],
   "source": [
    "first_half = drps_ampure_1st[:12]\n",
    "af.merge_all(drps_ampure_2nd, first_half, True)"
   ]
  },
  {
   "cell_type": "code",
   "execution_count": null,
   "metadata": {},
   "outputs": [],
   "source": [
    "def async_func_mix_ampure2nd_first_half():\n",
    "    global first_half\n",
    "    first_half = mix_func(first_half, 30)\n",
    "    [api_handle.send_command(f\"set_speed {id} {speed}\") for id in first_half]\n",
    "t1 = threading.Thread(target=async_func_mix_ampure2nd_first_half)\n",
    "t1.start()"
   ]
  },
  {
   "cell_type": "code",
   "execution_count": null,
   "metadata": {},
   "outputs": [],
   "source": [
    "# 加入磁珠 2nd\n",
    "# 目前已使用58, 56, 54, 52, 50, 14 ,16, 18, 20, 8, 6, 4, 2号孔位\n",
    "# 使用52、54号孔位\n",
    "drps_ampure_2nd = []\n",
    "mags = mag_centers[1:7]\n",
    "orig_volume = 3.5\n",
    "# 52\n",
    "pos1_x = get_hole_pos_by_pipe_id(52)[0]\n",
    "pos1 = [pos1_x, 600]\n",
    "list_split_position1 = [[pos1_x, y - 35] for _, y in mags]\n",
    "# 54\n",
    "pos2_x = get_hole_pos_by_pipe_id(54)[0]\n",
    "pos2 = [pos2_x, 600]\n",
    "list_split_position2 = [[pos2_x, y - 35] for _, y in mags]\n",
    "\n",
    "vbox_id1 = api_handle.send_command(f\"vbox add {list_to_string(pos1)} {ONE_UL_LEN * math.sqrt(orig_volume)}\")\n",
    "vbox_id2 = api_handle.send_command(f\"vbox add {list_to_string(pos2)} {ONE_UL_LEN * math.sqrt(orig_volume)}\")"
   ]
  },
  {
   "cell_type": "code",
   "execution_count": null,
   "metadata": {},
   "outputs": [],
   "source": [
    "with ThreadPoolExecutor() as executor:\n",
    "    f1 = executor.submit(extract_droplet_v2, vbox_id1, 'up', orig_volume, 0.5, 6, list_split_position1)\n",
    "    f2 = executor.submit(extract_droplet_v2, vbox_id2, 'up', orig_volume, 0.5, 6, list_split_position2)\n",
    "    vbox_list_1, unused_1 = f1.result()\n",
    "    vbox_list_2, unused_2 = f2.result()\n",
    "for vbox_id in vbox_list_1 + vbox_list_2:\n",
    "    drp_id = api_handle.send_command(f\"vbox 2drp {vbox_id}\")\n",
    "    api_handle.send_command(f\"set_speed {drp_id} {speed}\")\n",
    "    drps_ampure_2nd.append(drp_id)"
   ]
  },
  {
   "cell_type": "code",
   "execution_count": null,
   "metadata": {},
   "outputs": [],
   "source": [
    "# 下方液滴的排废孔在0号孔\n",
    "t_x, t_y = 1012, 640\n",
    "garbage_unused_t1 = threading.Thread(target = move_vbox_p, args = (unused_1, t_x, t_y, MoveDirection.Vertical.value))\n",
    "garbage_unused_t2 = threading.Thread(target = move_vbox_p, args = (unused_2, t_x, t_y, MoveDirection.Vertical.value))\n",
    "garbage_unused_t1.start()\n",
    "garbage_unused_t2.start()"
   ]
  },
  {
   "cell_type": "code",
   "execution_count": null,
   "metadata": {},
   "outputs": [],
   "source": [
    "move_drps_to_points(drps_ampure_2nd, get_mags(1, 2, 6, 3, arrange=0), True, 'up')"
   ]
  },
  {
   "cell_type": "code",
   "execution_count": null,
   "metadata": {},
   "outputs": [],
   "source": [
    "latter_half = drps_ampure_1st[-12:]\n",
    "af.merge_all(drps_ampure_2nd, latter_half, True)"
   ]
  },
  {
   "cell_type": "code",
   "execution_count": null,
   "metadata": {},
   "outputs": [],
   "source": [
    "latter_half = mix_func(latter_half, 2)\n",
    "t1.join()"
   ]
  },
  {
   "cell_type": "code",
   "execution_count": null,
   "metadata": {},
   "outputs": [],
   "source": [
    "# 移上清\n",
    "api_handle.send_command(\"mag up\")\n",
    "time.sleep(5)"
   ]
  },
  {
   "cell_type": "code",
   "execution_count": null,
   "metadata": {},
   "outputs": [],
   "source": [
    "drps = first_half + latter_half\n",
    "t = garbage_drps(drps)\n",
    "t.join()"
   ]
  },
  {
   "cell_type": "markdown",
   "metadata": {},
   "source": [
    "PCR产物纯化-wash-1"
   ]
  },
  {
   "cell_type": "code",
   "execution_count": null,
   "metadata": {},
   "outputs": [],
   "source": [
    "washing_buffer_list = []\n",
    "interval2 = 40\n",
    "drp_vol_washing_buffer = 1\n",
    "orig_volume = drp_vol_washing_buffer * 8 + 1\n",
    "x = 400\n",
    "# pipe: 8\n",
    "pos1 = [945, get_hole_pos_by_pipe_id(8)[1]]\n",
    "list_split_position1 = [None] * 8\n",
    "for i in range(2):\n",
    "    for j in range(4):\n",
    "        list_split_position1[i*4+j] = [x + interval2 * j, 158 + 70 * i]\n",
    "\n",
    "# pipe: 6\n",
    "pos2 = [945, get_hole_pos_by_pipe_id(6)[1]]\n",
    "list_split_position2 = [None] * 8\n",
    "for i in range(2):\n",
    "    for j in range(4):\n",
    "        list_split_position2[i*4+j] = [x + interval2 * j, 158 + 140 + 70 * i]\n",
    "\n",
    "# pipe: 4\n",
    "pos3 = [945, get_hole_pos_by_pipe_id(4)[1]]\n",
    "list_split_position3 = [None] * 8\n",
    "for i in range(2):\n",
    "    for j in range(4):\n",
    "        list_split_position3[i*4+j] = [x + interval2 * j, 158 + 280 + 70 * i]\n",
    "\n",
    "vbox_id1 = api_handle.send_command(f\"vbox add {list_to_string(pos1)} {ONE_UL_LEN * math.sqrt(orig_volume)}\")\n",
    "vbox_id2 = api_handle.send_command(f\"vbox add {list_to_string(pos2)} {ONE_UL_LEN * math.sqrt(orig_volume)}\")\n",
    "vbox_id3 = api_handle.send_command(f\"vbox add {list_to_string(pos3)} {ONE_UL_LEN * math.sqrt(orig_volume)}\")"
   ]
  },
  {
   "cell_type": "code",
   "execution_count": null,
   "metadata": {},
   "outputs": [],
   "source": [
    "with ThreadPoolExecutor(max_workers = 16) as executor:\n",
    "    f1 = executor.submit(extract_droplet_v2, vbox_id1, 'left', orig_volume, drp_vol_washing_buffer, 8, list_split_position1, extract_time = 1)\n",
    "    f2 = executor.submit(extract_droplet_v2, vbox_id2, 'left', orig_volume, drp_vol_washing_buffer, 8, list_split_position2, extract_time = 1)\n",
    "    f3 = executor.submit(extract_droplet_v2, vbox_id3, 'left', orig_volume, drp_vol_washing_buffer, 8, list_split_position3, extract_time = 1)\n",
    "    vbox_list_1, unused_1 = f1.result()\n",
    "    vbox_list_2, unused_2 = f2.result()\n",
    "    vbox_list_3, unused_3 = f3.result()"
   ]
  },
  {
   "cell_type": "code",
   "execution_count": null,
   "metadata": {},
   "outputs": [],
   "source": [
    "for vbox_id in vbox_list_1 + vbox_list_2 + vbox_list_3:\n",
    "    drp_id = api_handle.send_command(f\"vbox 2drp {vbox_id}\")\n",
    "    api_handle.send_command(f\"set_speed {drp_id} {speed}\")\n",
    "    washing_buffer_list.append(drp_id)\n",
    "print(washing_buffer_list)"
   ]
  },
  {
   "cell_type": "code",
   "execution_count": null,
   "metadata": {},
   "outputs": [],
   "source": [
    "for unused in [unused_1, unused_2, unused_3]:\n",
    "    api_handle.send_command(f\"vbox move {unused} {list_to_string(get_hole_pos_by_pipe_id(12))} 4\")"
   ]
  },
  {
   "cell_type": "code",
   "execution_count": null,
   "metadata": {},
   "outputs": [],
   "source": [
    "# 统一对齐\n",
    "tmp_poses = get_mags(1, 0, 6, 3, arrange = 1)\n",
    "tags = []\n",
    "for drp_id, pos in zip(washing_buffer_list, tmp_poses):\n",
    "    tags.append(move_to_y(drp_id, pos[1] - y_offset))\n",
    "af.wait_tag_all(tags)\n",
    "tags = [api_handle.send_command(f\"move_p {id} {list_to_string(pos)} {MoveDirection.Horizontal.value}\") for id, pos in zip(washing_buffer_list, tmp_poses)]\n",
    "af.wait_tag_all(tags)"
   ]
  },
  {
   "cell_type": "code",
   "execution_count": null,
   "metadata": {},
   "outputs": [],
   "source": [
    "washing_buffer_list_sorted = row_to_column_sort(washing_buffer_list)\n",
    "washing_buffer_list = mix_func(washing_buffer_list_sorted, 10)"
   ]
  },
  {
   "cell_type": "code",
   "execution_count": null,
   "metadata": {},
   "outputs": [],
   "source": [
    "# 移上清\n",
    "drps = washing_buffer_list\n",
    "t = garbage_drps(drps)\n",
    "t.join()"
   ]
  },
  {
   "cell_type": "markdown",
   "metadata": {},
   "source": [
    "PCR产物纯化-wash-2"
   ]
  },
  {
   "cell_type": "code",
   "execution_count": null,
   "metadata": {},
   "outputs": [],
   "source": [
    "washing_buffer_list = []\n",
    "interval2 = 40\n",
    "drp_vol_washing_buffer = 1.5\n",
    "orig_volume = drp_vol_washing_buffer * 8 + 1\n",
    "x = 400\n",
    "# pipe: 8\n",
    "pos1 = [945, get_hole_pos_by_pipe_id(8)[1]]\n",
    "list_split_position1 = [None] * 8\n",
    "for i in range(2):\n",
    "    for j in range(4):\n",
    "        list_split_position1[i*4+j] = [x + interval2 * j, 158 + 70 * i]\n",
    "\n",
    "# pipe: 6\n",
    "pos2 = [945, get_hole_pos_by_pipe_id(6)[1]]\n",
    "list_split_position2 = [None] * 8\n",
    "for i in range(2):\n",
    "    for j in range(4):\n",
    "        list_split_position2[i*4+j] = [x + interval2 * j, 158 + 140 + 70 * i]\n",
    "\n",
    "# pipe: 4\n",
    "pos3 = [945, get_hole_pos_by_pipe_id(4)[1]]\n",
    "list_split_position3 = [None] * 8\n",
    "for i in range(2):\n",
    "    for j in range(4):\n",
    "        list_split_position3[i*4+j] = [x + interval2 * j, 158 + 280 + 70 * i]\n",
    "\n",
    "vbox_id1 = api_handle.send_command(f\"vbox add {list_to_string(pos1)} {ONE_UL_LEN * math.sqrt(orig_volume)}\")\n",
    "vbox_id2 = api_handle.send_command(f\"vbox add {list_to_string(pos2)} {ONE_UL_LEN * math.sqrt(orig_volume)}\")\n",
    "vbox_id3 = api_handle.send_command(f\"vbox add {list_to_string(pos3)} {ONE_UL_LEN * math.sqrt(orig_volume)}\")"
   ]
  },
  {
   "cell_type": "code",
   "execution_count": null,
   "metadata": {},
   "outputs": [],
   "source": [
    "with ThreadPoolExecutor() as executor:\n",
    "    f1 = executor.submit(extract_droplet_v2, vbox_id1, 'left', orig_volume, drp_vol_washing_buffer, 8, list_split_position1, extract_time = 6)\n",
    "    f2 = executor.submit(extract_droplet_v2, vbox_id2, 'left', orig_volume, drp_vol_washing_buffer, 8, list_split_position2, extract_time = 6)\n",
    "    f3 = executor.submit(extract_droplet_v2, vbox_id3, 'left', orig_volume, drp_vol_washing_buffer, 8, list_split_position3, extract_time = 6)\n",
    "    vbox_list_1, unused_1 = f1.result()\n",
    "    vbox_list_2, unused_2 = f2.result()\n",
    "    vbox_list_3, unused_3 = f3.result()\n",
    "for vbox_id in vbox_list_1 + vbox_list_2 + vbox_list_3:\n",
    "    drp_id = api_handle.send_command(f\"vbox 2drp {vbox_id}\")\n",
    "    api_handle.send_command(f\"set_speed {drp_id} {speed}\")\n",
    "    washing_buffer_list.append(drp_id)\n",
    "print(washing_buffer_list)"
   ]
  },
  {
   "cell_type": "code",
   "execution_count": null,
   "metadata": {},
   "outputs": [],
   "source": [
    "washing_buffer_list = row_to_column_sort(washing_buffer_list)"
   ]
  },
  {
   "cell_type": "code",
   "execution_count": null,
   "metadata": {},
   "outputs": [],
   "source": [
    "move_drps_to_points(washing_buffer_list, get_mags(1, 0, 6, 3, arrange=0), True, 'up')"
   ]
  },
  {
   "cell_type": "code",
   "execution_count": null,
   "metadata": {},
   "outputs": [],
   "source": [
    "washing_buffer_list = mix_func(washing_buffer_list, 10)"
   ]
  },
  {
   "cell_type": "code",
   "execution_count": null,
   "metadata": {},
   "outputs": [],
   "source": [
    "# 移上清\n",
    "t = garbage_drps(washing_buffer_list)\n",
    "t.join()"
   ]
  },
  {
   "cell_type": "markdown",
   "metadata": {},
   "source": [
    "PCR产物纯化-ddH20"
   ]
  },
  {
   "cell_type": "code",
   "execution_count": null,
   "metadata": {},
   "outputs": [],
   "source": [
    "interval_y = 45\n",
    "ddH20_list = []\n",
    "drp_vol_ddH20 = 0.5\n",
    "drp_num_ddH20 = 12\n",
    "orig_volume = drp_vol_ddH20 * drp_num_ddH20 + 1\n",
    "# pipe: 20\n",
    "pos1_x = get_hole_pos_by_pipe_id(20)[0]\n",
    "pos1 = [pos1_x, get_hole_pos_by_pipe_id(20)[1] + 50]\n",
    "list_split_position1 = [[pos1_x, pos1[1] + interval_y * i] for i in range(12)]\n",
    "# pipe: 50\n",
    "pos2_x = get_hole_pos_by_pipe_id(50)[0]\n",
    "pos2 = [pos2_x, get_hole_pos_by_pipe_id(50)[1] - 50]\n",
    "list_split_position2 = [[pos2_x, pos2[1] - interval_y * i] for i in range(12)][::-1]"
   ]
  },
  {
   "cell_type": "code",
   "execution_count": null,
   "metadata": {},
   "outputs": [],
   "source": [
    "vbox_id1 = api_handle.send_command(f\"vbox add {list_to_string(pos1)} {ONE_UL_LEN * math.sqrt(orig_volume)}\")\n",
    "vbox_id2 = api_handle.send_command(f\"vbox add {list_to_string(pos2)} {ONE_UL_LEN * math.sqrt(orig_volume)}\")"
   ]
  },
  {
   "cell_type": "code",
   "execution_count": null,
   "metadata": {},
   "outputs": [],
   "source": [
    "with ThreadPoolExecutor() as executor:\n",
    "    f1 = executor.submit(extract_droplet_v2, vbox_id1, 'down', orig_volume, drp_vol_ddH20, drp_num_ddH20, list_split_position1)\n",
    "    f2 = executor.submit(extract_droplet_v2, vbox_id2, 'up', orig_volume, drp_vol_ddH20, drp_num_ddH20, list_split_position2)\n",
    "    vbox_list_1, unused_1 = f1.result()\n",
    "    vbox_list_2, unused_2 = f2.result()\n",
    "for vbox_id in vbox_list_1 + vbox_list_2:\n",
    "    drp_id = api_handle.send_command(f\"vbox 2drp {vbox_id}\")\n",
    "    api_handle.send_command(f\"set_speed {drp_id} {speed}\")\n",
    "    ddH20_list.append(drp_id)"
   ]
  },
  {
   "cell_type": "code",
   "execution_count": null,
   "metadata": {},
   "outputs": [],
   "source": [
    "ddH20_list_sorted = ddH20_list[-len(ddH20_list)//2:] + ddH20_list[:len(ddH20_list)//2]\n",
    "num_of_group = len(ddH20_list_sorted) // 4\n",
    "mags = get_mags(1, 0, 6, 3, arrange=0)\n",
    "# 第一组和最后一组向两边移动\n",
    "af.move_shift_all(ddH20_list_sorted[:num_of_group], -30, 0, False)\n",
    "af.move_shift_all(ddH20_list_sorted[-num_of_group:], 30, 0, True)\n",
    "time.sleep(1)\n",
    "# 对齐\n",
    "tags = []\n",
    "for drp_id, pos in zip(ddH20_list_sorted, mags):\n",
    "    tags.append(move_to_y(drp_id, pos[1] - y_offset))\n",
    "af.wait_tag_all(tags)\n",
    "# 移动至磁控点\n",
    "tags = []\n",
    "for drp_id, pos in zip(ddH20_list_sorted, mags):\n",
    "    tags.append(move_to_x(drp_id, pos[0]))\n",
    "af.wait_tag_all(tags)\n",
    "tags = []\n",
    "for drp_id, pos in zip(ddH20_list_sorted, mags):\n",
    "    tags.append(move_to_y(drp_id, pos[1]))\n",
    "af.wait_tag_all(tags)"
   ]
  },
  {
   "cell_type": "code",
   "execution_count": null,
   "metadata": {},
   "outputs": [],
   "source": [
    "ddH20_list_sorted = mix_func(ddH20_list_sorted, 30)"
   ]
  },
  {
   "cell_type": "code",
   "execution_count": null,
   "metadata": {},
   "outputs": [],
   "source": [
    "api_handle.send_command(\"mag up\")"
   ]
  },
  {
   "cell_type": "code",
   "execution_count": null,
   "metadata": {},
   "outputs": [],
   "source": [
    "drps = ddH20_list_sorted"
   ]
  },
  {
   "cell_type": "code",
   "execution_count": null,
   "metadata": {},
   "outputs": [],
   "source": [
    "af.move_shift_all(drps, -35, 0, True)\n",
    "time.sleep(1)\n",
    "af.move_shift_all(drps, 0, 35, True)\n",
    "time.sleep(1)\n",
    "af.move_shift_all(drps, 70, -70, True)\n",
    "time.sleep(2)"
   ]
  },
  {
   "cell_type": "code",
   "execution_count": null,
   "metadata": {},
   "outputs": [],
   "source": [
    "y1 = get_droplet_central_point(drps[0])[1]\n",
    "garbage_pos_x, garbage_pos_y = get_hole_pos_by_pipe_id(12)[0], 62\n",
    "def move_to_garbage_pos(id):\n",
    "    garbage_pos_x, y1 = 455, 62\n",
    "    tag = api_handle.send_command(f\"move_p {id} {garbage_pos_x} {y1} {MoveDirection.Vertical.value}\")\n",
    "    api_handle.wait_tag(tag)\n",
    "    tag = api_handle.send_command(f\"move_p {id} {garbage_pos_x} {garbage_pos_y} {MoveDirection.Vertical.value}\")\n",
    "    api_handle.wait_tag(tag)\n",
    "    api_handle.send_command(f\"set_virtual {id} 0\")\n",
    "    \n",
    "x_st = get_droplet_central_point(drps[-1])[0]\n",
    "for i in range(len(drps) // 6):\n",
    "    st = -(i+1)*6\n",
    "    ed = -i*6 if i != 0 else None\n",
    "    group = drps[st:ed]\n",
    "    for j, id in enumerate(group):\n",
    "        t = threading.Thread(target = move_to_garbage_pos, args = (id, ))\n",
    "        t.start()\n",
    "    while(get_droplet_central_point(group[-1])[0] < x_st + 30):\n",
    "        time.sleep(1)\n",
    "    if (i != len(drps) // 6 - 1):\n",
    "        af.move_shift_all(drps[:len(drps) - (i + 1) * 6], 70, 0, True)"
   ]
  },
  {
   "cell_type": "code",
   "execution_count": null,
   "metadata": {},
   "outputs": [],
   "source": [
    "# mags_tmp = get_mags(1, 0, 6, 3, arrange=0)\n",
    "# drps_ampure_1st = []\n",
    "# for pos in mags_tmp:\n",
    "#     vbox = api_handle.send_command(f\"vbox add {list_to_string(pos)} {ONE_UL_LEN * 1.4142}\")\n",
    "#     drps_ampure_1st.append(api_handle.send_command(f\"vbox 2drp {vbox}\"))    "
   ]
  },
  {
   "cell_type": "code",
   "execution_count": null,
   "metadata": {},
   "outputs": [],
   "source": [
    "jsons = api_handle.list_droplets()\n",
    "for obj in jsons:\n",
    "    id = obj['id']\n",
    "    # print(id)\n",
    "    api_handle.send_command(f\"set_virtual {id} 0\")"
   ]
  }
 ],
 "metadata": {
  "kernelspec": {
   "display_name": "Python 3",
   "language": "python",
   "name": "python3"
  },
  "language_info": {
   "codemirror_mode": {
    "name": "ipython",
    "version": 3
   },
   "file_extension": ".py",
   "mimetype": "text/x-python",
   "name": "python",
   "nbconvert_exporter": "python",
   "pygments_lexer": "ipython3",
   "version": "3.8.10"
  }
 },
 "nbformat": 4,
 "nbformat_minor": 4
}
